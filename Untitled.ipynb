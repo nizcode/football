{
 "cells": [
  {
   "cell_type": "code",
   "execution_count": 1,
   "id": "fd203744",
   "metadata": {},
   "outputs": [],
   "source": [
    "#load in match to get match id\n",
    "#The basics\n",
    "import pandas as pd\n",
    "import numpy as np\n",
    "import json\n"
   ]
  },
  {
   "cell_type": "code",
   "execution_count": 3,
   "id": "8cadb147",
   "metadata": {},
   "outputs": [],
   "source": [
    "with open('wyscoutEvents/matches_England.json') as f:\n",
    "    data = json.load(f)\n",
    "matches = pd.DataFrame(data)"
   ]
  },
  {
   "cell_type": "code",
   "execution_count": 8,
   "id": "8f2073c0",
   "metadata": {},
   "outputs": [
    {
     "data": {
      "text/html": [
       "<div>\n",
       "<style scoped>\n",
       "    .dataframe tbody tr th:only-of-type {\n",
       "        vertical-align: middle;\n",
       "    }\n",
       "\n",
       "    .dataframe tbody tr th {\n",
       "        vertical-align: top;\n",
       "    }\n",
       "\n",
       "    .dataframe thead th {\n",
       "        text-align: right;\n",
       "    }\n",
       "</style>\n",
       "<table border=\"1\" class=\"dataframe\">\n",
       "  <thead>\n",
       "    <tr style=\"text-align: right;\">\n",
       "      <th></th>\n",
       "      <th>status</th>\n",
       "      <th>roundId</th>\n",
       "      <th>gameweek</th>\n",
       "      <th>teamsData</th>\n",
       "      <th>seasonId</th>\n",
       "      <th>dateutc</th>\n",
       "      <th>winner</th>\n",
       "      <th>venue</th>\n",
       "      <th>wyId</th>\n",
       "      <th>label</th>\n",
       "      <th>date</th>\n",
       "      <th>referees</th>\n",
       "      <th>duration</th>\n",
       "      <th>competitionId</th>\n",
       "    </tr>\n",
       "  </thead>\n",
       "  <tbody>\n",
       "    <tr>\n",
       "      <th>373</th>\n",
       "      <td>Played</td>\n",
       "      <td>4405654</td>\n",
       "      <td>1</td>\n",
       "      <td>{'1646': {'scoreET': 0, 'coachId': 8880, 'side...</td>\n",
       "      <td>181150</td>\n",
       "      <td>2017-08-12 14:00:00</td>\n",
       "      <td>1646</td>\n",
       "      <td>Stamford Bridge</td>\n",
       "      <td>2499721</td>\n",
       "      <td>Chelsea - Burnley, 2 - 3</td>\n",
       "      <td>August 12, 2017 at 4:00:00 PM GMT+2</td>\n",
       "      <td>[{'refereeId': 378951, 'role': 'referee'}, {'r...</td>\n",
       "      <td>Regular</td>\n",
       "      <td>364</td>\n",
       "    </tr>\n",
       "  </tbody>\n",
       "</table>\n",
       "</div>"
      ],
      "text/plain": [
       "     status  roundId  gameweek  \\\n",
       "373  Played  4405654         1   \n",
       "\n",
       "                                             teamsData  seasonId  \\\n",
       "373  {'1646': {'scoreET': 0, 'coachId': 8880, 'side...    181150   \n",
       "\n",
       "                 dateutc  winner            venue     wyId  \\\n",
       "373  2017-08-12 14:00:00    1646  Stamford Bridge  2499721   \n",
       "\n",
       "                        label                                 date  \\\n",
       "373  Chelsea - Burnley, 2 - 3  August 12, 2017 at 4:00:00 PM GMT+2   \n",
       "\n",
       "                                              referees duration  competitionId  \n",
       "373  [{'refereeId': 378951, 'role': 'referee'}, {'r...  Regular            364  "
      ]
     },
     "execution_count": 8,
     "metadata": {},
     "output_type": "execute_result"
    }
   ],
   "source": [
    "#search tool\n",
    "wyid =  2499721\n",
    "matches.loc[matches['wyId']==wyid,:]"
   ]
  }
 ],
 "metadata": {
  "kernelspec": {
   "display_name": "Python [conda env:football] *",
   "language": "python",
   "name": "conda-env-football-py"
  },
  "language_info": {
   "codemirror_mode": {
    "name": "ipython",
    "version": 3
   },
   "file_extension": ".py",
   "mimetype": "text/x-python",
   "name": "python",
   "nbconvert_exporter": "python",
   "pygments_lexer": "ipython3",
   "version": "3.10.4"
  }
 },
 "nbformat": 4,
 "nbformat_minor": 5
}
