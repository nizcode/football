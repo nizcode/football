{
 "cells": [
  {
   "cell_type": "code",
   "execution_count": 2,
   "id": "fd203744",
   "metadata": {},
   "outputs": [],
   "source": [
    "#load in match to get match id\n",
    "#The basics\n",
    "import pandas as pd\n",
    "import numpy as np\n",
    "import json\n",
    "from os import listdir\n",
    "from os.path import isfile, join"
   ]
  },
  {
   "cell_type": "code",
   "execution_count": 6,
   "id": "8cadb147",
   "metadata": {},
   "outputs": [],
   "source": [
    "#Decide which league to load\n",
    "#Wyscout data from https://figshare.com/collections/Soccer_match_event_dataset/4415000/2\n",
    "onlyfile = [f for f in listdir('wyscoutEvents/match') if isfile(join('wyscoutEvents/match', f))]\n",
    "\n",
    "d = []\n",
    "for i in onlyfile:\n",
    "    \n",
    "    with open('wyscoutEvents/match/'+i) as f:\n",
    "        data = json.load(f)\n",
    "        d.append(pd.DataFrame(data))\n",
    "matches = pd.concat(d,ignore_index=True)"
   ]
  },
  {
   "cell_type": "code",
   "execution_count": 9,
   "id": "8f2073c0",
   "metadata": {},
   "outputs": [
    {
     "data": {
      "text/html": [
       "<div>\n",
       "<style scoped>\n",
       "    .dataframe tbody tr th:only-of-type {\n",
       "        vertical-align: middle;\n",
       "    }\n",
       "\n",
       "    .dataframe tbody tr th {\n",
       "        vertical-align: top;\n",
       "    }\n",
       "\n",
       "    .dataframe thead th {\n",
       "        text-align: right;\n",
       "    }\n",
       "</style>\n",
       "<table border=\"1\" class=\"dataframe\">\n",
       "  <thead>\n",
       "    <tr style=\"text-align: right;\">\n",
       "      <th></th>\n",
       "      <th>status</th>\n",
       "      <th>roundId</th>\n",
       "      <th>gameweek</th>\n",
       "      <th>teamsData</th>\n",
       "      <th>seasonId</th>\n",
       "      <th>dateutc</th>\n",
       "      <th>winner</th>\n",
       "      <th>venue</th>\n",
       "      <th>wyId</th>\n",
       "      <th>label</th>\n",
       "      <th>date</th>\n",
       "      <th>groupName</th>\n",
       "      <th>referees</th>\n",
       "      <th>duration</th>\n",
       "      <th>competitionId</th>\n",
       "    </tr>\n",
       "  </thead>\n",
       "  <tbody>\n",
       "    <tr>\n",
       "      <th>373</th>\n",
       "      <td>Played</td>\n",
       "      <td>4405654</td>\n",
       "      <td>38</td>\n",
       "      <td>{'1651': {'scoreET': 0, 'coachId': 8093, 'side...</td>\n",
       "      <td>181150</td>\n",
       "      <td>2018-05-13 14:00:00</td>\n",
       "      <td>1612</td>\n",
       "      <td>Anfield</td>\n",
       "      <td>2500092</td>\n",
       "      <td>Liverpool - Brighton &amp; Hove Albion, 4 - 0</td>\n",
       "      <td>May 13, 2018 at 4:00:00 PM GMT+2</td>\n",
       "      <td>NaN</td>\n",
       "      <td>[{'refereeId': 385704, 'role': 'referee'}, {'r...</td>\n",
       "      <td>Regular</td>\n",
       "      <td>364</td>\n",
       "    </tr>\n",
       "  </tbody>\n",
       "</table>\n",
       "</div>"
      ],
      "text/plain": [
       "     status  roundId  gameweek  \\\n",
       "373  Played  4405654        38   \n",
       "\n",
       "                                             teamsData  seasonId  \\\n",
       "373  {'1651': {'scoreET': 0, 'coachId': 8093, 'side...    181150   \n",
       "\n",
       "                 dateutc  winner    venue     wyId  \\\n",
       "373  2018-05-13 14:00:00    1612  Anfield  2500092   \n",
       "\n",
       "                                         label  \\\n",
       "373  Liverpool - Brighton & Hove Albion, 4 - 0   \n",
       "\n",
       "                                 date groupName  \\\n",
       "373  May 13, 2018 at 4:00:00 PM GMT+2       NaN   \n",
       "\n",
       "                                              referees duration  competitionId  \n",
       "373  [{'refereeId': 385704, 'role': 'referee'}, {'r...  Regular            364  "
      ]
     },
     "execution_count": 9,
     "metadata": {},
     "output_type": "execute_result"
    }
   ],
   "source": [
    "#search tool\n",
    "wyid =  2500092\n",
    "matches.loc[matches['wyId']==wyid,:]"
   ]
  }
 ],
 "metadata": {
  "kernelspec": {
   "display_name": "Python [conda env:football] *",
   "language": "python",
   "name": "conda-env-football-py"
  },
  "language_info": {
   "codemirror_mode": {
    "name": "ipython",
    "version": 3
   },
   "file_extension": ".py",
   "mimetype": "text/x-python",
   "name": "python",
   "nbconvert_exporter": "python",
   "pygments_lexer": "ipython3",
   "version": "3.10.4"
  }
 },
 "nbformat": 4,
 "nbformat_minor": 5
}
