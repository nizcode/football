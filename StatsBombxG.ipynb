{
 "cells": [
  {
   "cell_type": "code",
   "execution_count": 122,
   "id": "be760c5c",
   "metadata": {},
   "outputs": [],
   "source": [
    "import matplotlib.pyplot as plt\n",
    "import numpy as np\n",
    "\n",
    "#Statistical fitting of models\n",
    "import statsmodels.api as sm\n",
    "import statsmodels.formula.api as smf"
   ]
  },
  {
   "cell_type": "code",
   "execution_count": 2,
   "id": "327737c8",
   "metadata": {},
   "outputs": [],
   "source": [
    "from os import listdir\n",
    "from os.path import isfile, join\n",
    "onlyfiles = [f[:-5] for f in listdir('StatsBombData/data/three-sixty') if isfile(join('StatsBombData/data/three-sixty', f))]"
   ]
  },
  {
   "cell_type": "code",
   "execution_count": 36,
   "id": "60a749da",
   "metadata": {},
   "outputs": [
    {
     "name": "stdout",
     "output_type": "stream",
     "text": [
      "3788751.json\n"
     ]
    },
    {
     "name": "stderr",
     "output_type": "stream",
     "text": [
      "/tmp/ipykernel_3965/3569207663.py:19: FutureWarning: pandas.io.json.json_normalize is deprecated, use pandas.json_normalize instead.\n",
      "  dfe = json_normalize(data, sep=\"_\").assign(match_id=j[:-5])\n",
      "/tmp/ipykernel_3965/3569207663.py:20: FutureWarning: pandas.io.json.json_normalize is deprecated, use pandas.json_normalize instead.\n",
      "  dfp = json_normalize(data1, sep=\"_\").assign(match_id=j[:-5])\n"
     ]
    },
    {
     "name": "stdout",
     "output_type": "stream",
     "text": [
      "3794691.json\n"
     ]
    },
    {
     "name": "stderr",
     "output_type": "stream",
     "text": [
      "/tmp/ipykernel_3965/3569207663.py:19: FutureWarning: pandas.io.json.json_normalize is deprecated, use pandas.json_normalize instead.\n",
      "  dfe = json_normalize(data, sep=\"_\").assign(match_id=j[:-5])\n",
      "/tmp/ipykernel_3965/3569207663.py:20: FutureWarning: pandas.io.json.json_normalize is deprecated, use pandas.json_normalize instead.\n",
      "  dfp = json_normalize(data1, sep=\"_\").assign(match_id=j[:-5])\n"
     ]
    },
    {
     "name": "stdout",
     "output_type": "stream",
     "text": [
      "3844385.json\n",
      "3795506.json\n"
     ]
    },
    {
     "name": "stderr",
     "output_type": "stream",
     "text": [
      "/tmp/ipykernel_3965/3569207663.py:19: FutureWarning: pandas.io.json.json_normalize is deprecated, use pandas.json_normalize instead.\n",
      "  dfe = json_normalize(data, sep=\"_\").assign(match_id=j[:-5])\n",
      "/tmp/ipykernel_3965/3569207663.py:20: FutureWarning: pandas.io.json.json_normalize is deprecated, use pandas.json_normalize instead.\n",
      "  dfp = json_normalize(data1, sep=\"_\").assign(match_id=j[:-5])\n",
      "/tmp/ipykernel_3965/3569207663.py:19: FutureWarning: pandas.io.json.json_normalize is deprecated, use pandas.json_normalize instead.\n",
      "  dfe = json_normalize(data, sep=\"_\").assign(match_id=j[:-5])\n",
      "/tmp/ipykernel_3965/3569207663.py:20: FutureWarning: pandas.io.json.json_normalize is deprecated, use pandas.json_normalize instead.\n",
      "  dfp = json_normalize(data1, sep=\"_\").assign(match_id=j[:-5])\n",
      "/tmp/ipykernel_3965/3569207663.py:19: FutureWarning: pandas.io.json.json_normalize is deprecated, use pandas.json_normalize instead.\n",
      "  dfe = json_normalize(data, sep=\"_\").assign(match_id=j[:-5])\n",
      "/tmp/ipykernel_3965/3569207663.py:20: FutureWarning: pandas.io.json.json_normalize is deprecated, use pandas.json_normalize instead.\n",
      "  dfp = json_normalize(data1, sep=\"_\").assign(match_id=j[:-5])\n"
     ]
    },
    {
     "name": "stdout",
     "output_type": "stream",
     "text": [
      "3794687.json\n",
      "3835324.json\n",
      "3835337.json\n"
     ]
    },
    {
     "name": "stderr",
     "output_type": "stream",
     "text": [
      "/tmp/ipykernel_3965/3569207663.py:19: FutureWarning: pandas.io.json.json_normalize is deprecated, use pandas.json_normalize instead.\n",
      "  dfe = json_normalize(data, sep=\"_\").assign(match_id=j[:-5])\n",
      "/tmp/ipykernel_3965/3569207663.py:20: FutureWarning: pandas.io.json.json_normalize is deprecated, use pandas.json_normalize instead.\n",
      "  dfp = json_normalize(data1, sep=\"_\").assign(match_id=j[:-5])\n",
      "/tmp/ipykernel_3965/3569207663.py:19: FutureWarning: pandas.io.json.json_normalize is deprecated, use pandas.json_normalize instead.\n",
      "  dfe = json_normalize(data, sep=\"_\").assign(match_id=j[:-5])\n",
      "/tmp/ipykernel_3965/3569207663.py:20: FutureWarning: pandas.io.json.json_normalize is deprecated, use pandas.json_normalize instead.\n",
      "  dfp = json_normalize(data1, sep=\"_\").assign(match_id=j[:-5])\n",
      "/tmp/ipykernel_3965/3569207663.py:19: FutureWarning: pandas.io.json.json_normalize is deprecated, use pandas.json_normalize instead.\n",
      "  dfe = json_normalize(data, sep=\"_\").assign(match_id=j[:-5])\n",
      "/tmp/ipykernel_3965/3569207663.py:20: FutureWarning: pandas.io.json.json_normalize is deprecated, use pandas.json_normalize instead.\n",
      "  dfp = json_normalize(data1, sep=\"_\").assign(match_id=j[:-5])\n"
     ]
    },
    {
     "name": "stdout",
     "output_type": "stream",
     "text": [
      "3835327.json\n",
      "3835335.json\n"
     ]
    },
    {
     "name": "stderr",
     "output_type": "stream",
     "text": [
      "/tmp/ipykernel_3965/3569207663.py:19: FutureWarning: pandas.io.json.json_normalize is deprecated, use pandas.json_normalize instead.\n",
      "  dfe = json_normalize(data, sep=\"_\").assign(match_id=j[:-5])\n",
      "/tmp/ipykernel_3965/3569207663.py:20: FutureWarning: pandas.io.json.json_normalize is deprecated, use pandas.json_normalize instead.\n",
      "  dfp = json_normalize(data1, sep=\"_\").assign(match_id=j[:-5])\n",
      "/tmp/ipykernel_3965/3569207663.py:19: FutureWarning: pandas.io.json.json_normalize is deprecated, use pandas.json_normalize instead.\n",
      "  dfe = json_normalize(data, sep=\"_\").assign(match_id=j[:-5])\n",
      "/tmp/ipykernel_3965/3569207663.py:20: FutureWarning: pandas.io.json.json_normalize is deprecated, use pandas.json_normalize instead.\n",
      "  dfp = json_normalize(data1, sep=\"_\").assign(match_id=j[:-5])\n"
     ]
    },
    {
     "name": "stdout",
     "output_type": "stream",
     "text": [
      "3835332.json\n",
      "3788755.json\n"
     ]
    },
    {
     "name": "stderr",
     "output_type": "stream",
     "text": [
      "/tmp/ipykernel_3965/3569207663.py:19: FutureWarning: pandas.io.json.json_normalize is deprecated, use pandas.json_normalize instead.\n",
      "  dfe = json_normalize(data, sep=\"_\").assign(match_id=j[:-5])\n",
      "/tmp/ipykernel_3965/3569207663.py:20: FutureWarning: pandas.io.json.json_normalize is deprecated, use pandas.json_normalize instead.\n",
      "  dfp = json_normalize(data1, sep=\"_\").assign(match_id=j[:-5])\n"
     ]
    },
    {
     "name": "stdout",
     "output_type": "stream",
     "text": [
      "3788765.json\n"
     ]
    },
    {
     "name": "stderr",
     "output_type": "stream",
     "text": [
      "/tmp/ipykernel_3965/3569207663.py:19: FutureWarning: pandas.io.json.json_normalize is deprecated, use pandas.json_normalize instead.\n",
      "  dfe = json_normalize(data, sep=\"_\").assign(match_id=j[:-5])\n",
      "/tmp/ipykernel_3965/3569207663.py:20: FutureWarning: pandas.io.json.json_normalize is deprecated, use pandas.json_normalize instead.\n",
      "  dfp = json_normalize(data1, sep=\"_\").assign(match_id=j[:-5])\n",
      "/tmp/ipykernel_3965/3569207663.py:19: FutureWarning: pandas.io.json.json_normalize is deprecated, use pandas.json_normalize instead.\n",
      "  dfe = json_normalize(data, sep=\"_\").assign(match_id=j[:-5])\n"
     ]
    },
    {
     "name": "stdout",
     "output_type": "stream",
     "text": [
      "3794690.json\n",
      "3788752.json\n"
     ]
    },
    {
     "name": "stderr",
     "output_type": "stream",
     "text": [
      "/tmp/ipykernel_3965/3569207663.py:20: FutureWarning: pandas.io.json.json_normalize is deprecated, use pandas.json_normalize instead.\n",
      "  dfp = json_normalize(data1, sep=\"_\").assign(match_id=j[:-5])\n",
      "/tmp/ipykernel_3965/3569207663.py:19: FutureWarning: pandas.io.json.json_normalize is deprecated, use pandas.json_normalize instead.\n",
      "  dfe = json_normalize(data, sep=\"_\").assign(match_id=j[:-5])\n",
      "/tmp/ipykernel_3965/3569207663.py:20: FutureWarning: pandas.io.json.json_normalize is deprecated, use pandas.json_normalize instead.\n",
      "  dfp = json_normalize(data1, sep=\"_\").assign(match_id=j[:-5])\n",
      "/tmp/ipykernel_3965/3569207663.py:19: FutureWarning: pandas.io.json.json_normalize is deprecated, use pandas.json_normalize instead.\n",
      "  dfe = json_normalize(data, sep=\"_\").assign(match_id=j[:-5])\n",
      "/tmp/ipykernel_3965/3569207663.py:20: FutureWarning: pandas.io.json.json_normalize is deprecated, use pandas.json_normalize instead.\n",
      "  dfp = json_normalize(data1, sep=\"_\").assign(match_id=j[:-5])\n"
     ]
    },
    {
     "name": "stdout",
     "output_type": "stream",
     "text": [
      "3835329.json\n",
      "3788774.json\n"
     ]
    },
    {
     "name": "stderr",
     "output_type": "stream",
     "text": [
      "/tmp/ipykernel_3965/3569207663.py:19: FutureWarning: pandas.io.json.json_normalize is deprecated, use pandas.json_normalize instead.\n",
      "  dfe = json_normalize(data, sep=\"_\").assign(match_id=j[:-5])\n",
      "/tmp/ipykernel_3965/3569207663.py:20: FutureWarning: pandas.io.json.json_normalize is deprecated, use pandas.json_normalize instead.\n",
      "  dfp = json_normalize(data1, sep=\"_\").assign(match_id=j[:-5])\n"
     ]
    },
    {
     "name": "stdout",
     "output_type": "stream",
     "text": [
      "3788753.json\n"
     ]
    },
    {
     "name": "stderr",
     "output_type": "stream",
     "text": [
      "/tmp/ipykernel_3965/3569207663.py:19: FutureWarning: pandas.io.json.json_normalize is deprecated, use pandas.json_normalize instead.\n",
      "  dfe = json_normalize(data, sep=\"_\").assign(match_id=j[:-5])\n",
      "/tmp/ipykernel_3965/3569207663.py:20: FutureWarning: pandas.io.json.json_normalize is deprecated, use pandas.json_normalize instead.\n",
      "  dfp = json_normalize(data1, sep=\"_\").assign(match_id=j[:-5])\n"
     ]
    },
    {
     "name": "stdout",
     "output_type": "stream",
     "text": [
      "3788768.json\n"
     ]
    },
    {
     "name": "stderr",
     "output_type": "stream",
     "text": [
      "/tmp/ipykernel_3965/3569207663.py:19: FutureWarning: pandas.io.json.json_normalize is deprecated, use pandas.json_normalize instead.\n",
      "  dfe = json_normalize(data, sep=\"_\").assign(match_id=j[:-5])\n",
      "/tmp/ipykernel_3965/3569207663.py:20: FutureWarning: pandas.io.json.json_normalize is deprecated, use pandas.json_normalize instead.\n",
      "  dfp = json_normalize(data1, sep=\"_\").assign(match_id=j[:-5])\n"
     ]
    },
    {
     "name": "stdout",
     "output_type": "stream",
     "text": [
      "3788762.json\n"
     ]
    },
    {
     "name": "stderr",
     "output_type": "stream",
     "text": [
      "/tmp/ipykernel_3965/3569207663.py:19: FutureWarning: pandas.io.json.json_normalize is deprecated, use pandas.json_normalize instead.\n",
      "  dfe = json_normalize(data, sep=\"_\").assign(match_id=j[:-5])\n",
      "/tmp/ipykernel_3965/3569207663.py:20: FutureWarning: pandas.io.json.json_normalize is deprecated, use pandas.json_normalize instead.\n",
      "  dfp = json_normalize(data1, sep=\"_\").assign(match_id=j[:-5])\n",
      "/tmp/ipykernel_3965/3569207663.py:19: FutureWarning: pandas.io.json.json_normalize is deprecated, use pandas.json_normalize instead.\n",
      "  dfe = json_normalize(data, sep=\"_\").assign(match_id=j[:-5])\n"
     ]
    },
    {
     "name": "stdout",
     "output_type": "stream",
     "text": [
      "3835319.json\n",
      "3788744.json\n"
     ]
    },
    {
     "name": "stderr",
     "output_type": "stream",
     "text": [
      "/tmp/ipykernel_3965/3569207663.py:20: FutureWarning: pandas.io.json.json_normalize is deprecated, use pandas.json_normalize instead.\n",
      "  dfp = json_normalize(data1, sep=\"_\").assign(match_id=j[:-5])\n",
      "/tmp/ipykernel_3965/3569207663.py:19: FutureWarning: pandas.io.json.json_normalize is deprecated, use pandas.json_normalize instead.\n",
      "  dfe = json_normalize(data, sep=\"_\").assign(match_id=j[:-5])\n",
      "/tmp/ipykernel_3965/3569207663.py:20: FutureWarning: pandas.io.json.json_normalize is deprecated, use pandas.json_normalize instead.\n",
      "  dfp = json_normalize(data1, sep=\"_\").assign(match_id=j[:-5])\n",
      "/tmp/ipykernel_3965/3569207663.py:19: FutureWarning: pandas.io.json.json_normalize is deprecated, use pandas.json_normalize instead.\n",
      "  dfe = json_normalize(data, sep=\"_\").assign(match_id=j[:-5])\n",
      "/tmp/ipykernel_3965/3569207663.py:20: FutureWarning: pandas.io.json.json_normalize is deprecated, use pandas.json_normalize instead.\n",
      "  dfp = json_normalize(data1, sep=\"_\").assign(match_id=j[:-5])\n"
     ]
    },
    {
     "name": "stdout",
     "output_type": "stream",
     "text": [
      "3835322.json\n",
      "3835331.json\n"
     ]
    },
    {
     "name": "stderr",
     "output_type": "stream",
     "text": [
      "/tmp/ipykernel_3965/3569207663.py:19: FutureWarning: pandas.io.json.json_normalize is deprecated, use pandas.json_normalize instead.\n",
      "  dfe = json_normalize(data, sep=\"_\").assign(match_id=j[:-5])\n",
      "/tmp/ipykernel_3965/3569207663.py:20: FutureWarning: pandas.io.json.json_normalize is deprecated, use pandas.json_normalize instead.\n",
      "  dfp = json_normalize(data1, sep=\"_\").assign(match_id=j[:-5])\n"
     ]
    },
    {
     "name": "stdout",
     "output_type": "stream",
     "text": [
      "3788764.json\n"
     ]
    },
    {
     "name": "stderr",
     "output_type": "stream",
     "text": [
      "/tmp/ipykernel_3965/3569207663.py:19: FutureWarning: pandas.io.json.json_normalize is deprecated, use pandas.json_normalize instead.\n",
      "  dfe = json_normalize(data, sep=\"_\").assign(match_id=j[:-5])\n",
      "/tmp/ipykernel_3965/3569207663.py:20: FutureWarning: pandas.io.json.json_normalize is deprecated, use pandas.json_normalize instead.\n",
      "  dfp = json_normalize(data1, sep=\"_\").assign(match_id=j[:-5])\n"
     ]
    },
    {
     "name": "stdout",
     "output_type": "stream",
     "text": [
      "3788759.json\n"
     ]
    },
    {
     "name": "stderr",
     "output_type": "stream",
     "text": [
      "/tmp/ipykernel_3965/3569207663.py:19: FutureWarning: pandas.io.json.json_normalize is deprecated, use pandas.json_normalize instead.\n",
      "  dfe = json_normalize(data, sep=\"_\").assign(match_id=j[:-5])\n",
      "/tmp/ipykernel_3965/3569207663.py:20: FutureWarning: pandas.io.json.json_normalize is deprecated, use pandas.json_normalize instead.\n",
      "  dfp = json_normalize(data1, sep=\"_\").assign(match_id=j[:-5])\n",
      "/tmp/ipykernel_3965/3569207663.py:19: FutureWarning: pandas.io.json.json_normalize is deprecated, use pandas.json_normalize instead.\n",
      "  dfe = json_normalize(data, sep=\"_\").assign(match_id=j[:-5])\n",
      "/tmp/ipykernel_3965/3569207663.py:20: FutureWarning: pandas.io.json.json_normalize is deprecated, use pandas.json_normalize instead.\n",
      "  dfp = json_normalize(data1, sep=\"_\").assign(match_id=j[:-5])\n"
     ]
    },
    {
     "name": "stdout",
     "output_type": "stream",
     "text": [
      "3845507.json\n",
      "3794688.json\n"
     ]
    },
    {
     "name": "stderr",
     "output_type": "stream",
     "text": [
      "/tmp/ipykernel_3965/3569207663.py:19: FutureWarning: pandas.io.json.json_normalize is deprecated, use pandas.json_normalize instead.\n",
      "  dfe = json_normalize(data, sep=\"_\").assign(match_id=j[:-5])\n",
      "/tmp/ipykernel_3965/3569207663.py:20: FutureWarning: pandas.io.json.json_normalize is deprecated, use pandas.json_normalize instead.\n",
      "  dfp = json_normalize(data1, sep=\"_\").assign(match_id=j[:-5])\n"
     ]
    },
    {
     "name": "stdout",
     "output_type": "stream",
     "text": [
      "3794685.json\n"
     ]
    },
    {
     "name": "stderr",
     "output_type": "stream",
     "text": [
      "/tmp/ipykernel_3965/3569207663.py:19: FutureWarning: pandas.io.json.json_normalize is deprecated, use pandas.json_normalize instead.\n",
      "  dfe = json_normalize(data, sep=\"_\").assign(match_id=j[:-5])\n",
      "/tmp/ipykernel_3965/3569207663.py:20: FutureWarning: pandas.io.json.json_normalize is deprecated, use pandas.json_normalize instead.\n",
      "  dfp = json_normalize(data1, sep=\"_\").assign(match_id=j[:-5])\n",
      "/tmp/ipykernel_3965/3569207663.py:19: FutureWarning: pandas.io.json.json_normalize is deprecated, use pandas.json_normalize instead.\n",
      "  dfe = json_normalize(data, sep=\"_\").assign(match_id=j[:-5])\n"
     ]
    },
    {
     "name": "stdout",
     "output_type": "stream",
     "text": [
      "3788754.json\n",
      "3788763.json\n"
     ]
    },
    {
     "name": "stderr",
     "output_type": "stream",
     "text": [
      "/tmp/ipykernel_3965/3569207663.py:20: FutureWarning: pandas.io.json.json_normalize is deprecated, use pandas.json_normalize instead.\n",
      "  dfp = json_normalize(data1, sep=\"_\").assign(match_id=j[:-5])\n",
      "/tmp/ipykernel_3965/3569207663.py:19: FutureWarning: pandas.io.json.json_normalize is deprecated, use pandas.json_normalize instead.\n",
      "  dfe = json_normalize(data, sep=\"_\").assign(match_id=j[:-5])\n",
      "/tmp/ipykernel_3965/3569207663.py:20: FutureWarning: pandas.io.json.json_normalize is deprecated, use pandas.json_normalize instead.\n",
      "  dfp = json_normalize(data1, sep=\"_\").assign(match_id=j[:-5])\n"
     ]
    },
    {
     "name": "stdout",
     "output_type": "stream",
     "text": [
      "3788743.json\n"
     ]
    },
    {
     "name": "stderr",
     "output_type": "stream",
     "text": [
      "/tmp/ipykernel_3965/3569207663.py:19: FutureWarning: pandas.io.json.json_normalize is deprecated, use pandas.json_normalize instead.\n",
      "  dfe = json_normalize(data, sep=\"_\").assign(match_id=j[:-5])\n",
      "/tmp/ipykernel_3965/3569207663.py:20: FutureWarning: pandas.io.json.json_normalize is deprecated, use pandas.json_normalize instead.\n",
      "  dfp = json_normalize(data1, sep=\"_\").assign(match_id=j[:-5])\n",
      "/tmp/ipykernel_3965/3569207663.py:19: FutureWarning: pandas.io.json.json_normalize is deprecated, use pandas.json_normalize instead.\n",
      "  dfe = json_normalize(data, sep=\"_\").assign(match_id=j[:-5])\n"
     ]
    },
    {
     "name": "stdout",
     "output_type": "stream",
     "text": [
      "3788769.json\n",
      "3788760.json\n"
     ]
    },
    {
     "name": "stderr",
     "output_type": "stream",
     "text": [
      "/tmp/ipykernel_3965/3569207663.py:20: FutureWarning: pandas.io.json.json_normalize is deprecated, use pandas.json_normalize instead.\n",
      "  dfp = json_normalize(data1, sep=\"_\").assign(match_id=j[:-5])\n",
      "/tmp/ipykernel_3965/3569207663.py:19: FutureWarning: pandas.io.json.json_normalize is deprecated, use pandas.json_normalize instead.\n",
      "  dfe = json_normalize(data, sep=\"_\").assign(match_id=j[:-5])\n",
      "/tmp/ipykernel_3965/3569207663.py:20: FutureWarning: pandas.io.json.json_normalize is deprecated, use pandas.json_normalize instead.\n",
      "  dfp = json_normalize(data1, sep=\"_\").assign(match_id=j[:-5])\n"
     ]
    },
    {
     "name": "stdout",
     "output_type": "stream",
     "text": [
      "3788741.json\n"
     ]
    },
    {
     "name": "stderr",
     "output_type": "stream",
     "text": [
      "/tmp/ipykernel_3965/3569207663.py:19: FutureWarning: pandas.io.json.json_normalize is deprecated, use pandas.json_normalize instead.\n",
      "  dfe = json_normalize(data, sep=\"_\").assign(match_id=j[:-5])\n",
      "/tmp/ipykernel_3965/3569207663.py:20: FutureWarning: pandas.io.json.json_normalize is deprecated, use pandas.json_normalize instead.\n",
      "  dfp = json_normalize(data1, sep=\"_\").assign(match_id=j[:-5])\n",
      "/tmp/ipykernel_3965/3569207663.py:19: FutureWarning: pandas.io.json.json_normalize is deprecated, use pandas.json_normalize instead.\n",
      "  dfe = json_normalize(data, sep=\"_\").assign(match_id=j[:-5])\n"
     ]
    },
    {
     "name": "stdout",
     "output_type": "stream",
     "text": [
      "3788766.json\n",
      "3844386.json\n"
     ]
    },
    {
     "name": "stderr",
     "output_type": "stream",
     "text": [
      "/tmp/ipykernel_3965/3569207663.py:20: FutureWarning: pandas.io.json.json_normalize is deprecated, use pandas.json_normalize instead.\n",
      "  dfp = json_normalize(data1, sep=\"_\").assign(match_id=j[:-5])\n",
      "/tmp/ipykernel_3965/3569207663.py:19: FutureWarning: pandas.io.json.json_normalize is deprecated, use pandas.json_normalize instead.\n",
      "  dfe = json_normalize(data, sep=\"_\").assign(match_id=j[:-5])\n",
      "/tmp/ipykernel_3965/3569207663.py:20: FutureWarning: pandas.io.json.json_normalize is deprecated, use pandas.json_normalize instead.\n",
      "  dfp = json_normalize(data1, sep=\"_\").assign(match_id=j[:-5])\n"
     ]
    },
    {
     "name": "stdout",
     "output_type": "stream",
     "text": [
      "3794692.json\n"
     ]
    },
    {
     "name": "stderr",
     "output_type": "stream",
     "text": [
      "/tmp/ipykernel_3965/3569207663.py:19: FutureWarning: pandas.io.json.json_normalize is deprecated, use pandas.json_normalize instead.\n",
      "  dfe = json_normalize(data, sep=\"_\").assign(match_id=j[:-5])\n",
      "/tmp/ipykernel_3965/3569207663.py:20: FutureWarning: pandas.io.json.json_normalize is deprecated, use pandas.json_normalize instead.\n",
      "  dfp = json_normalize(data1, sep=\"_\").assign(match_id=j[:-5])\n",
      "/tmp/ipykernel_3965/3569207663.py:19: FutureWarning: pandas.io.json.json_normalize is deprecated, use pandas.json_normalize instead.\n",
      "  dfe = json_normalize(data, sep=\"_\").assign(match_id=j[:-5])\n"
     ]
    },
    {
     "name": "stdout",
     "output_type": "stream",
     "text": [
      "3788767.json\n",
      "3847567.json\n"
     ]
    },
    {
     "name": "stderr",
     "output_type": "stream",
     "text": [
      "/tmp/ipykernel_3965/3569207663.py:20: FutureWarning: pandas.io.json.json_normalize is deprecated, use pandas.json_normalize instead.\n",
      "  dfp = json_normalize(data1, sep=\"_\").assign(match_id=j[:-5])\n",
      "/tmp/ipykernel_3965/3569207663.py:19: FutureWarning: pandas.io.json.json_normalize is deprecated, use pandas.json_normalize instead.\n",
      "  dfe = json_normalize(data, sep=\"_\").assign(match_id=j[:-5])\n",
      "/tmp/ipykernel_3965/3569207663.py:20: FutureWarning: pandas.io.json.json_normalize is deprecated, use pandas.json_normalize instead.\n",
      "  dfp = json_normalize(data1, sep=\"_\").assign(match_id=j[:-5])\n"
     ]
    },
    {
     "name": "stdout",
     "output_type": "stream",
     "text": [
      "3788746.json\n"
     ]
    },
    {
     "name": "stderr",
     "output_type": "stream",
     "text": [
      "/tmp/ipykernel_3965/3569207663.py:19: FutureWarning: pandas.io.json.json_normalize is deprecated, use pandas.json_normalize instead.\n",
      "  dfe = json_normalize(data, sep=\"_\").assign(match_id=j[:-5])\n",
      "/tmp/ipykernel_3965/3569207663.py:20: FutureWarning: pandas.io.json.json_normalize is deprecated, use pandas.json_normalize instead.\n",
      "  dfp = json_normalize(data1, sep=\"_\").assign(match_id=j[:-5])\n",
      "/tmp/ipykernel_3965/3569207663.py:19: FutureWarning: pandas.io.json.json_normalize is deprecated, use pandas.json_normalize instead.\n",
      "  dfe = json_normalize(data, sep=\"_\").assign(match_id=j[:-5])\n"
     ]
    },
    {
     "name": "stdout",
     "output_type": "stream",
     "text": [
      "3835330.json\n",
      "3835342.json\n"
     ]
    },
    {
     "name": "stderr",
     "output_type": "stream",
     "text": [
      "/tmp/ipykernel_3965/3569207663.py:20: FutureWarning: pandas.io.json.json_normalize is deprecated, use pandas.json_normalize instead.\n",
      "  dfp = json_normalize(data1, sep=\"_\").assign(match_id=j[:-5])\n",
      "/tmp/ipykernel_3965/3569207663.py:19: FutureWarning: pandas.io.json.json_normalize is deprecated, use pandas.json_normalize instead.\n",
      "  dfe = json_normalize(data, sep=\"_\").assign(match_id=j[:-5])\n",
      "/tmp/ipykernel_3965/3569207663.py:20: FutureWarning: pandas.io.json.json_normalize is deprecated, use pandas.json_normalize instead.\n",
      "  dfp = json_normalize(data1, sep=\"_\").assign(match_id=j[:-5])\n"
     ]
    },
    {
     "name": "stdout",
     "output_type": "stream",
     "text": [
      "3835334.json\n"
     ]
    },
    {
     "name": "stderr",
     "output_type": "stream",
     "text": [
      "/tmp/ipykernel_3965/3569207663.py:19: FutureWarning: pandas.io.json.json_normalize is deprecated, use pandas.json_normalize instead.\n",
      "  dfe = json_normalize(data, sep=\"_\").assign(match_id=j[:-5])\n",
      "/tmp/ipykernel_3965/3569207663.py:20: FutureWarning: pandas.io.json.json_normalize is deprecated, use pandas.json_normalize instead.\n",
      "  dfp = json_normalize(data1, sep=\"_\").assign(match_id=j[:-5])\n",
      "/tmp/ipykernel_3965/3569207663.py:19: FutureWarning: pandas.io.json.json_normalize is deprecated, use pandas.json_normalize instead.\n",
      "  dfe = json_normalize(data, sep=\"_\").assign(match_id=j[:-5])\n"
     ]
    },
    {
     "name": "stdout",
     "output_type": "stream",
     "text": [
      "3788775.json\n",
      "3835320.json\n"
     ]
    },
    {
     "name": "stderr",
     "output_type": "stream",
     "text": [
      "/tmp/ipykernel_3965/3569207663.py:20: FutureWarning: pandas.io.json.json_normalize is deprecated, use pandas.json_normalize instead.\n",
      "  dfp = json_normalize(data1, sep=\"_\").assign(match_id=j[:-5])\n",
      "/tmp/ipykernel_3965/3569207663.py:19: FutureWarning: pandas.io.json.json_normalize is deprecated, use pandas.json_normalize instead.\n",
      "  dfe = json_normalize(data, sep=\"_\").assign(match_id=j[:-5])\n",
      "/tmp/ipykernel_3965/3569207663.py:20: FutureWarning: pandas.io.json.json_normalize is deprecated, use pandas.json_normalize instead.\n",
      "  dfp = json_normalize(data1, sep=\"_\").assign(match_id=j[:-5])\n",
      "/tmp/ipykernel_3965/3569207663.py:19: FutureWarning: pandas.io.json.json_normalize is deprecated, use pandas.json_normalize instead.\n",
      "  dfe = json_normalize(data, sep=\"_\").assign(match_id=j[:-5])\n",
      "/tmp/ipykernel_3965/3569207663.py:20: FutureWarning: pandas.io.json.json_normalize is deprecated, use pandas.json_normalize instead.\n",
      "  dfp = json_normalize(data1, sep=\"_\").assign(match_id=j[:-5])\n"
     ]
    },
    {
     "name": "stdout",
     "output_type": "stream",
     "text": [
      "3844384.json\n",
      "3788742.json\n"
     ]
    },
    {
     "name": "stderr",
     "output_type": "stream",
     "text": [
      "/tmp/ipykernel_3965/3569207663.py:19: FutureWarning: pandas.io.json.json_normalize is deprecated, use pandas.json_normalize instead.\n",
      "  dfe = json_normalize(data, sep=\"_\").assign(match_id=j[:-5])\n",
      "/tmp/ipykernel_3965/3569207663.py:20: FutureWarning: pandas.io.json.json_normalize is deprecated, use pandas.json_normalize instead.\n",
      "  dfp = json_normalize(data1, sep=\"_\").assign(match_id=j[:-5])\n"
     ]
    },
    {
     "name": "stdout",
     "output_type": "stream",
     "text": [
      "3788776.json\n"
     ]
    },
    {
     "name": "stderr",
     "output_type": "stream",
     "text": [
      "/tmp/ipykernel_3965/3569207663.py:19: FutureWarning: pandas.io.json.json_normalize is deprecated, use pandas.json_normalize instead.\n",
      "  dfe = json_normalize(data, sep=\"_\").assign(match_id=j[:-5])\n",
      "/tmp/ipykernel_3965/3569207663.py:20: FutureWarning: pandas.io.json.json_normalize is deprecated, use pandas.json_normalize instead.\n",
      "  dfp = json_normalize(data1, sep=\"_\").assign(match_id=j[:-5])\n",
      "/tmp/ipykernel_3965/3569207663.py:19: FutureWarning: pandas.io.json.json_normalize is deprecated, use pandas.json_normalize instead.\n",
      "  dfe = json_normalize(data, sep=\"_\").assign(match_id=j[:-5])\n"
     ]
    },
    {
     "name": "stdout",
     "output_type": "stream",
     "text": [
      "3788761.json\n"
     ]
    },
    {
     "name": "stderr",
     "output_type": "stream",
     "text": [
      "/tmp/ipykernel_3965/3569207663.py:20: FutureWarning: pandas.io.json.json_normalize is deprecated, use pandas.json_normalize instead.\n",
      "  dfp = json_normalize(data1, sep=\"_\").assign(match_id=j[:-5])\n"
     ]
    },
    {
     "name": "stdout",
     "output_type": "stream",
     "text": [
      "3788757.json\n"
     ]
    },
    {
     "name": "stderr",
     "output_type": "stream",
     "text": [
      "/tmp/ipykernel_3965/3569207663.py:19: FutureWarning: pandas.io.json.json_normalize is deprecated, use pandas.json_normalize instead.\n",
      "  dfe = json_normalize(data, sep=\"_\").assign(match_id=j[:-5])\n",
      "/tmp/ipykernel_3965/3569207663.py:20: FutureWarning: pandas.io.json.json_normalize is deprecated, use pandas.json_normalize instead.\n",
      "  dfp = json_normalize(data1, sep=\"_\").assign(match_id=j[:-5])\n",
      "/tmp/ipykernel_3965/3569207663.py:19: FutureWarning: pandas.io.json.json_normalize is deprecated, use pandas.json_normalize instead.\n",
      "  dfe = json_normalize(data, sep=\"_\").assign(match_id=j[:-5])\n"
     ]
    },
    {
     "name": "stdout",
     "output_type": "stream",
     "text": [
      "3835338.json\n",
      "3835323.json\n"
     ]
    },
    {
     "name": "stderr",
     "output_type": "stream",
     "text": [
      "/tmp/ipykernel_3965/3569207663.py:20: FutureWarning: pandas.io.json.json_normalize is deprecated, use pandas.json_normalize instead.\n",
      "  dfp = json_normalize(data1, sep=\"_\").assign(match_id=j[:-5])\n",
      "/tmp/ipykernel_3965/3569207663.py:19: FutureWarning: pandas.io.json.json_normalize is deprecated, use pandas.json_normalize instead.\n",
      "  dfe = json_normalize(data, sep=\"_\").assign(match_id=j[:-5])\n",
      "/tmp/ipykernel_3965/3569207663.py:20: FutureWarning: pandas.io.json.json_normalize is deprecated, use pandas.json_normalize instead.\n",
      "  dfp = json_normalize(data1, sep=\"_\").assign(match_id=j[:-5])\n"
     ]
    },
    {
     "name": "stdout",
     "output_type": "stream",
     "text": [
      "3794689.json\n"
     ]
    },
    {
     "name": "stderr",
     "output_type": "stream",
     "text": [
      "/tmp/ipykernel_3965/3569207663.py:19: FutureWarning: pandas.io.json.json_normalize is deprecated, use pandas.json_normalize instead.\n",
      "  dfe = json_normalize(data, sep=\"_\").assign(match_id=j[:-5])\n",
      "/tmp/ipykernel_3965/3569207663.py:20: FutureWarning: pandas.io.json.json_normalize is deprecated, use pandas.json_normalize instead.\n",
      "  dfp = json_normalize(data1, sep=\"_\").assign(match_id=j[:-5])\n",
      "/tmp/ipykernel_3965/3569207663.py:19: FutureWarning: pandas.io.json.json_normalize is deprecated, use pandas.json_normalize instead.\n",
      "  dfe = json_normalize(data, sep=\"_\").assign(match_id=j[:-5])\n"
     ]
    },
    {
     "name": "stdout",
     "output_type": "stream",
     "text": [
      "3835340.json\n",
      "3795220.json\n"
     ]
    },
    {
     "name": "stderr",
     "output_type": "stream",
     "text": [
      "/tmp/ipykernel_3965/3569207663.py:20: FutureWarning: pandas.io.json.json_normalize is deprecated, use pandas.json_normalize instead.\n",
      "  dfp = json_normalize(data1, sep=\"_\").assign(match_id=j[:-5])\n",
      "/tmp/ipykernel_3965/3569207663.py:19: FutureWarning: pandas.io.json.json_normalize is deprecated, use pandas.json_normalize instead.\n",
      "  dfe = json_normalize(data, sep=\"_\").assign(match_id=j[:-5])\n",
      "/tmp/ipykernel_3965/3569207663.py:20: FutureWarning: pandas.io.json.json_normalize is deprecated, use pandas.json_normalize instead.\n",
      "  dfp = json_normalize(data1, sep=\"_\").assign(match_id=j[:-5])\n",
      "/tmp/ipykernel_3965/3569207663.py:19: FutureWarning: pandas.io.json.json_normalize is deprecated, use pandas.json_normalize instead.\n",
      "  dfe = json_normalize(data, sep=\"_\").assign(match_id=j[:-5])\n",
      "/tmp/ipykernel_3965/3569207663.py:20: FutureWarning: pandas.io.json.json_normalize is deprecated, use pandas.json_normalize instead.\n",
      "  dfp = json_normalize(data1, sep=\"_\").assign(match_id=j[:-5])\n"
     ]
    },
    {
     "name": "stdout",
     "output_type": "stream",
     "text": [
      "3788773.json\n",
      "3835339.json\n"
     ]
    },
    {
     "name": "stderr",
     "output_type": "stream",
     "text": [
      "/tmp/ipykernel_3965/3569207663.py:19: FutureWarning: pandas.io.json.json_normalize is deprecated, use pandas.json_normalize instead.\n",
      "  dfe = json_normalize(data, sep=\"_\").assign(match_id=j[:-5])\n",
      "/tmp/ipykernel_3965/3569207663.py:20: FutureWarning: pandas.io.json.json_normalize is deprecated, use pandas.json_normalize instead.\n",
      "  dfp = json_normalize(data1, sep=\"_\").assign(match_id=j[:-5])\n",
      "/tmp/ipykernel_3965/3569207663.py:19: FutureWarning: pandas.io.json.json_normalize is deprecated, use pandas.json_normalize instead.\n",
      "  dfe = json_normalize(data, sep=\"_\").assign(match_id=j[:-5])\n"
     ]
    },
    {
     "name": "stdout",
     "output_type": "stream",
     "text": [
      "3845506.json\n",
      "3788756.json\n"
     ]
    },
    {
     "name": "stderr",
     "output_type": "stream",
     "text": [
      "/tmp/ipykernel_3965/3569207663.py:20: FutureWarning: pandas.io.json.json_normalize is deprecated, use pandas.json_normalize instead.\n",
      "  dfp = json_normalize(data1, sep=\"_\").assign(match_id=j[:-5])\n",
      "/tmp/ipykernel_3965/3569207663.py:19: FutureWarning: pandas.io.json.json_normalize is deprecated, use pandas.json_normalize instead.\n",
      "  dfe = json_normalize(data, sep=\"_\").assign(match_id=j[:-5])\n",
      "/tmp/ipykernel_3965/3569207663.py:20: FutureWarning: pandas.io.json.json_normalize is deprecated, use pandas.json_normalize instead.\n",
      "  dfp = json_normalize(data1, sep=\"_\").assign(match_id=j[:-5])\n",
      "/tmp/ipykernel_3965/3569207663.py:19: FutureWarning: pandas.io.json.json_normalize is deprecated, use pandas.json_normalize instead.\n",
      "  dfe = json_normalize(data, sep=\"_\").assign(match_id=j[:-5])\n",
      "/tmp/ipykernel_3965/3569207663.py:20: FutureWarning: pandas.io.json.json_normalize is deprecated, use pandas.json_normalize instead.\n",
      "  dfp = json_normalize(data1, sep=\"_\").assign(match_id=j[:-5])\n"
     ]
    },
    {
     "name": "stdout",
     "output_type": "stream",
     "text": [
      "3788745.json\n",
      "3788747.json\n"
     ]
    },
    {
     "name": "stderr",
     "output_type": "stream",
     "text": [
      "/tmp/ipykernel_3965/3569207663.py:19: FutureWarning: pandas.io.json.json_normalize is deprecated, use pandas.json_normalize instead.\n",
      "  dfe = json_normalize(data, sep=\"_\").assign(match_id=j[:-5])\n",
      "/tmp/ipykernel_3965/3569207663.py:20: FutureWarning: pandas.io.json.json_normalize is deprecated, use pandas.json_normalize instead.\n",
      "  dfp = json_normalize(data1, sep=\"_\").assign(match_id=j[:-5])\n"
     ]
    },
    {
     "name": "stdout",
     "output_type": "stream",
     "text": [
      "3795221.json\n"
     ]
    },
    {
     "name": "stderr",
     "output_type": "stream",
     "text": [
      "/tmp/ipykernel_3965/3569207663.py:19: FutureWarning: pandas.io.json.json_normalize is deprecated, use pandas.json_normalize instead.\n",
      "  dfe = json_normalize(data, sep=\"_\").assign(match_id=j[:-5])\n",
      "/tmp/ipykernel_3965/3569207663.py:20: FutureWarning: pandas.io.json.json_normalize is deprecated, use pandas.json_normalize instead.\n",
      "  dfp = json_normalize(data1, sep=\"_\").assign(match_id=j[:-5])\n",
      "/tmp/ipykernel_3965/3569207663.py:19: FutureWarning: pandas.io.json.json_normalize is deprecated, use pandas.json_normalize instead.\n",
      "  dfe = json_normalize(data, sep=\"_\").assign(match_id=j[:-5])\n"
     ]
    },
    {
     "name": "stdout",
     "output_type": "stream",
     "text": [
      "3835336.json\n",
      "3795109.json\n"
     ]
    },
    {
     "name": "stderr",
     "output_type": "stream",
     "text": [
      "/tmp/ipykernel_3965/3569207663.py:20: FutureWarning: pandas.io.json.json_normalize is deprecated, use pandas.json_normalize instead.\n",
      "  dfp = json_normalize(data1, sep=\"_\").assign(match_id=j[:-5])\n",
      "/tmp/ipykernel_3965/3569207663.py:19: FutureWarning: pandas.io.json.json_normalize is deprecated, use pandas.json_normalize instead.\n",
      "  dfe = json_normalize(data, sep=\"_\").assign(match_id=j[:-5])\n",
      "/tmp/ipykernel_3965/3569207663.py:20: FutureWarning: pandas.io.json.json_normalize is deprecated, use pandas.json_normalize instead.\n",
      "  dfp = json_normalize(data1, sep=\"_\").assign(match_id=j[:-5])\n",
      "/tmp/ipykernel_3965/3569207663.py:19: FutureWarning: pandas.io.json.json_normalize is deprecated, use pandas.json_normalize instead.\n",
      "  dfe = json_normalize(data, sep=\"_\").assign(match_id=j[:-5])\n"
     ]
    },
    {
     "name": "stdout",
     "output_type": "stream",
     "text": [
      "3835325.json\n",
      "3788770.json\n"
     ]
    },
    {
     "name": "stderr",
     "output_type": "stream",
     "text": [
      "/tmp/ipykernel_3965/3569207663.py:20: FutureWarning: pandas.io.json.json_normalize is deprecated, use pandas.json_normalize instead.\n",
      "  dfp = json_normalize(data1, sep=\"_\").assign(match_id=j[:-5])\n",
      "/tmp/ipykernel_3965/3569207663.py:19: FutureWarning: pandas.io.json.json_normalize is deprecated, use pandas.json_normalize instead.\n",
      "  dfe = json_normalize(data, sep=\"_\").assign(match_id=j[:-5])\n",
      "/tmp/ipykernel_3965/3569207663.py:20: FutureWarning: pandas.io.json.json_normalize is deprecated, use pandas.json_normalize instead.\n",
      "  dfp = json_normalize(data1, sep=\"_\").assign(match_id=j[:-5])\n",
      "/tmp/ipykernel_3965/3569207663.py:19: FutureWarning: pandas.io.json.json_normalize is deprecated, use pandas.json_normalize instead.\n",
      "  dfe = json_normalize(data, sep=\"_\").assign(match_id=j[:-5])\n",
      "/tmp/ipykernel_3965/3569207663.py:20: FutureWarning: pandas.io.json.json_normalize is deprecated, use pandas.json_normalize instead.\n",
      "  dfp = json_normalize(data1, sep=\"_\").assign(match_id=j[:-5])\n"
     ]
    },
    {
     "name": "stdout",
     "output_type": "stream",
     "text": [
      "3844387.json\n",
      "3788771.json\n"
     ]
    },
    {
     "name": "stderr",
     "output_type": "stream",
     "text": [
      "/tmp/ipykernel_3965/3569207663.py:19: FutureWarning: pandas.io.json.json_normalize is deprecated, use pandas.json_normalize instead.\n",
      "  dfe = json_normalize(data, sep=\"_\").assign(match_id=j[:-5])\n",
      "/tmp/ipykernel_3965/3569207663.py:20: FutureWarning: pandas.io.json.json_normalize is deprecated, use pandas.json_normalize instead.\n",
      "  dfp = json_normalize(data1, sep=\"_\").assign(match_id=j[:-5])\n"
     ]
    },
    {
     "name": "stdout",
     "output_type": "stream",
     "text": [
      "3788748.json\n"
     ]
    },
    {
     "name": "stderr",
     "output_type": "stream",
     "text": [
      "/tmp/ipykernel_3965/3569207663.py:19: FutureWarning: pandas.io.json.json_normalize is deprecated, use pandas.json_normalize instead.\n",
      "  dfe = json_normalize(data, sep=\"_\").assign(match_id=j[:-5])\n",
      "/tmp/ipykernel_3965/3569207663.py:20: FutureWarning: pandas.io.json.json_normalize is deprecated, use pandas.json_normalize instead.\n",
      "  dfp = json_normalize(data1, sep=\"_\").assign(match_id=j[:-5])\n",
      "/tmp/ipykernel_3965/3569207663.py:19: FutureWarning: pandas.io.json.json_normalize is deprecated, use pandas.json_normalize instead.\n",
      "  dfe = json_normalize(data, sep=\"_\").assign(match_id=j[:-5])\n"
     ]
    },
    {
     "name": "stdout",
     "output_type": "stream",
     "text": [
      "3835341.json\n",
      "3788749.json\n"
     ]
    },
    {
     "name": "stderr",
     "output_type": "stream",
     "text": [
      "/tmp/ipykernel_3965/3569207663.py:20: FutureWarning: pandas.io.json.json_normalize is deprecated, use pandas.json_normalize instead.\n",
      "  dfp = json_normalize(data1, sep=\"_\").assign(match_id=j[:-5])\n",
      "/tmp/ipykernel_3965/3569207663.py:19: FutureWarning: pandas.io.json.json_normalize is deprecated, use pandas.json_normalize instead.\n",
      "  dfe = json_normalize(data, sep=\"_\").assign(match_id=j[:-5])\n",
      "/tmp/ipykernel_3965/3569207663.py:20: FutureWarning: pandas.io.json.json_normalize is deprecated, use pandas.json_normalize instead.\n",
      "  dfp = json_normalize(data1, sep=\"_\").assign(match_id=j[:-5])\n",
      "/tmp/ipykernel_3965/3569207663.py:19: FutureWarning: pandas.io.json.json_normalize is deprecated, use pandas.json_normalize instead.\n",
      "  dfe = json_normalize(data, sep=\"_\").assign(match_id=j[:-5])\n",
      "/tmp/ipykernel_3965/3569207663.py:20: FutureWarning: pandas.io.json.json_normalize is deprecated, use pandas.json_normalize instead.\n",
      "  dfp = json_normalize(data1, sep=\"_\").assign(match_id=j[:-5])\n"
     ]
    },
    {
     "name": "stdout",
     "output_type": "stream",
     "text": [
      "3835326.json\n",
      "3835333.json\n"
     ]
    },
    {
     "name": "stderr",
     "output_type": "stream",
     "text": [
      "/tmp/ipykernel_3965/3569207663.py:19: FutureWarning: pandas.io.json.json_normalize is deprecated, use pandas.json_normalize instead.\n",
      "  dfe = json_normalize(data, sep=\"_\").assign(match_id=j[:-5])\n",
      "/tmp/ipykernel_3965/3569207663.py:20: FutureWarning: pandas.io.json.json_normalize is deprecated, use pandas.json_normalize instead.\n",
      "  dfp = json_normalize(data1, sep=\"_\").assign(match_id=j[:-5])\n"
     ]
    },
    {
     "name": "stdout",
     "output_type": "stream",
     "text": [
      "3788772.json\n"
     ]
    },
    {
     "name": "stderr",
     "output_type": "stream",
     "text": [
      "/tmp/ipykernel_3965/3569207663.py:19: FutureWarning: pandas.io.json.json_normalize is deprecated, use pandas.json_normalize instead.\n",
      "  dfe = json_normalize(data, sep=\"_\").assign(match_id=j[:-5])\n",
      "/tmp/ipykernel_3965/3569207663.py:20: FutureWarning: pandas.io.json.json_normalize is deprecated, use pandas.json_normalize instead.\n",
      "  dfp = json_normalize(data1, sep=\"_\").assign(match_id=j[:-5])\n",
      "/tmp/ipykernel_3965/3569207663.py:19: FutureWarning: pandas.io.json.json_normalize is deprecated, use pandas.json_normalize instead.\n",
      "  dfe = json_normalize(data, sep=\"_\").assign(match_id=j[:-5])\n"
     ]
    },
    {
     "name": "stdout",
     "output_type": "stream",
     "text": [
      "3835328.json\n",
      "3795187.json\n"
     ]
    },
    {
     "name": "stderr",
     "output_type": "stream",
     "text": [
      "/tmp/ipykernel_3965/3569207663.py:20: FutureWarning: pandas.io.json.json_normalize is deprecated, use pandas.json_normalize instead.\n",
      "  dfp = json_normalize(data1, sep=\"_\").assign(match_id=j[:-5])\n",
      "/tmp/ipykernel_3965/3569207663.py:19: FutureWarning: pandas.io.json.json_normalize is deprecated, use pandas.json_normalize instead.\n",
      "  dfe = json_normalize(data, sep=\"_\").assign(match_id=j[:-5])\n",
      "/tmp/ipykernel_3965/3569207663.py:20: FutureWarning: pandas.io.json.json_normalize is deprecated, use pandas.json_normalize instead.\n",
      "  dfp = json_normalize(data1, sep=\"_\").assign(match_id=j[:-5])\n"
     ]
    },
    {
     "name": "stdout",
     "output_type": "stream",
     "text": [
      "3788758.json\n"
     ]
    },
    {
     "name": "stderr",
     "output_type": "stream",
     "text": [
      "/tmp/ipykernel_3965/3569207663.py:19: FutureWarning: pandas.io.json.json_normalize is deprecated, use pandas.json_normalize instead.\n",
      "  dfe = json_normalize(data, sep=\"_\").assign(match_id=j[:-5])\n",
      "/tmp/ipykernel_3965/3569207663.py:20: FutureWarning: pandas.io.json.json_normalize is deprecated, use pandas.json_normalize instead.\n",
      "  dfp = json_normalize(data1, sep=\"_\").assign(match_id=j[:-5])\n"
     ]
    },
    {
     "name": "stdout",
     "output_type": "stream",
     "text": [
      "3794686.json\n"
     ]
    },
    {
     "name": "stderr",
     "output_type": "stream",
     "text": [
      "/tmp/ipykernel_3965/3569207663.py:19: FutureWarning: pandas.io.json.json_normalize is deprecated, use pandas.json_normalize instead.\n",
      "  dfe = json_normalize(data, sep=\"_\").assign(match_id=j[:-5])\n",
      "/tmp/ipykernel_3965/3569207663.py:20: FutureWarning: pandas.io.json.json_normalize is deprecated, use pandas.json_normalize instead.\n",
      "  dfp = json_normalize(data1, sep=\"_\").assign(match_id=j[:-5])\n"
     ]
    },
    {
     "name": "stdout",
     "output_type": "stream",
     "text": [
      "3788750.json\n"
     ]
    },
    {
     "name": "stderr",
     "output_type": "stream",
     "text": [
      "/tmp/ipykernel_3965/3569207663.py:19: FutureWarning: pandas.io.json.json_normalize is deprecated, use pandas.json_normalize instead.\n",
      "  dfe = json_normalize(data, sep=\"_\").assign(match_id=j[:-5])\n",
      "/tmp/ipykernel_3965/3569207663.py:20: FutureWarning: pandas.io.json.json_normalize is deprecated, use pandas.json_normalize instead.\n",
      "  dfp = json_normalize(data1, sep=\"_\").assign(match_id=j[:-5])\n"
     ]
    },
    {
     "name": "stdout",
     "output_type": "stream",
     "text": [
      "3795107.json\n"
     ]
    },
    {
     "name": "stderr",
     "output_type": "stream",
     "text": [
      "/tmp/ipykernel_3965/3569207663.py:19: FutureWarning: pandas.io.json.json_normalize is deprecated, use pandas.json_normalize instead.\n",
      "  dfe = json_normalize(data, sep=\"_\").assign(match_id=j[:-5])\n",
      "/tmp/ipykernel_3965/3569207663.py:20: FutureWarning: pandas.io.json.json_normalize is deprecated, use pandas.json_normalize instead.\n",
      "  dfp = json_normalize(data1, sep=\"_\").assign(match_id=j[:-5])\n"
     ]
    },
    {
     "name": "stdout",
     "output_type": "stream",
     "text": [
      "3795108.json\n"
     ]
    },
    {
     "name": "stderr",
     "output_type": "stream",
     "text": [
      "/tmp/ipykernel_3965/3569207663.py:19: FutureWarning: pandas.io.json.json_normalize is deprecated, use pandas.json_normalize instead.\n",
      "  dfe = json_normalize(data, sep=\"_\").assign(match_id=j[:-5])\n",
      "/tmp/ipykernel_3965/3569207663.py:20: FutureWarning: pandas.io.json.json_normalize is deprecated, use pandas.json_normalize instead.\n",
      "  dfp = json_normalize(data1, sep=\"_\").assign(match_id=j[:-5])\n",
      "/tmp/ipykernel_3965/3569207663.py:19: FutureWarning: pandas.io.json.json_normalize is deprecated, use pandas.json_normalize instead.\n",
      "  dfe = json_normalize(data, sep=\"_\").assign(match_id=j[:-5])\n"
     ]
    },
    {
     "name": "stdout",
     "output_type": "stream",
     "text": [
      "3835321.json\n"
     ]
    },
    {
     "name": "stderr",
     "output_type": "stream",
     "text": [
      "/tmp/ipykernel_3965/3569207663.py:20: FutureWarning: pandas.io.json.json_normalize is deprecated, use pandas.json_normalize instead.\n",
      "  dfp = json_normalize(data1, sep=\"_\").assign(match_id=j[:-5])\n"
     ]
    }
   ],
   "source": [
    "import pandas as pd\n",
    "from pandas.io.json import json_normalize\n",
    "import json\n",
    "from os import listdir\n",
    "from os.path import isfile, join\n",
    "onlyfiles = [f for f in listdir('StatsBombData/data/three-sixty') if isfile(join('StatsBombData/data/three-sixty', f))]\n",
    "#print(onlyfiles)\n",
    "\n",
    "lsdata = list()\n",
    "for i,j in enumerate(onlyfiles):\n",
    "    print(j)\n",
    "    #Load in all match events\n",
    "    with open('StatsBombData/data/events/'+j) as data_file:\n",
    "        #print (mypath+'events/'+file)\n",
    "        data = json.load(data_file)\n",
    "    with open('StatsBombData/data/three-sixty/' + j) as data_file:\n",
    "    # print (mypath+'events/'+file)\n",
    "        data1 = json.load(data_file)\n",
    "    dfe = json_normalize(data, sep=\"_\").assign(match_id=j[:-5])\n",
    "    dfp = json_normalize(data1, sep=\"_\").assign(match_id=j[:-5])\n",
    "    shots = dfe.loc[dfe['type_name'] == 'Shot']\n",
    "    #print(shots.shape)\n",
    "    \n",
    "    #print(dfp['event_uuid'].isin(shots['id']).unique())\n",
    "    #print(shots['id'])\n",
    "    #dfp =dfp.loc[dfp['event_uuid'].isin(shots['id'])==True, :]\n",
    "    dfp=dfp.rename(columns = {'event_uuid':'id'})\n",
    "    #dfp.set_index('event_uuid')\n",
    "    #shots= shots.loc[shots['id'].isin(dfp['id'])==True,:]\n",
    "    #shots.set_index('id')\n",
    "    #print(dfp.shape)\n",
    "    #print(shots.shape)\n",
    "    #print(pd.merge(shots, dfp, on='id').shape)\n",
    "    dft = pd.merge(shots, dfp, on='id')\n",
    "    lsdata.append(dft)\n",
    "    #dfpf= dfp.loc[dfp.isin(dfe['id'])]\n",
    "    #shots = pd.merge(shots,dfp.loc[dfp['event_uuid'].isin(shots['id'])==True, :])\n",
    "    #print(shots['id'])\n",
    "    #dfs.append(shots)\n",
    "    #dfps.append(dfp.loc[dfp['event_uuid'].isin(shots['id'])==True, :])\n",
    "\n"
   ]
  },
  {
   "cell_type": "code",
   "execution_count": 37,
   "id": "b8ae2514",
   "metadata": {},
   "outputs": [],
   "source": [
    "data = pd.concat(lsdata, ignore_index = True)"
   ]
  },
  {
   "cell_type": "code",
   "execution_count": 38,
   "id": "183073b0",
   "metadata": {},
   "outputs": [
    {
     "name": "stdout",
     "output_type": "stream",
     "text": [
      "(2086, 147)\n"
     ]
    }
   ],
   "source": [
    "print(data.shape)"
   ]
  },
  {
   "cell_type": "code",
   "execution_count": 4,
   "id": "33b4acf9",
   "metadata": {},
   "outputs": [
    {
     "name": "stdout",
     "output_type": "stream",
     "text": [
      "{'teammate': False, 'actor': False, 'keeper': False, 'location': [103.40376, 43.714256]}\n",
      "{'teammate': True, 'actor': False, 'keeper': False, 'location': [107.83189, 44.00914]}\n",
      "{'teammate': True, 'actor': False, 'keeper': False, 'location': [109.05422, 41.824104]}\n",
      "{'teammate': False, 'actor': False, 'keeper': False, 'location': [110.13407, 44.66693]}\n",
      "{'teammate': False, 'actor': False, 'keeper': False, 'location': [110.20367, 42.045948]}\n",
      "{'teammate': True, 'actor': False, 'keeper': False, 'location': [110.72643, 49.002174]}\n",
      "{'teammate': False, 'actor': False, 'keeper': False, 'location': [110.87151, 41.413883]}\n",
      "{'teammate': True, 'actor': False, 'keeper': False, 'location': [111.75743, 40.73054]}\n",
      "{'teammate': False, 'actor': False, 'keeper': False, 'location': [111.94797, 39.641953]}\n",
      "{'teammate': True, 'actor': True, 'keeper': False, 'location': [112.890175, 38.28589]}\n",
      "{'teammate': False, 'actor': False, 'keeper': False, 'location': [113.39757, 38.024677]}\n",
      "{'teammate': False, 'actor': False, 'keeper': False, 'location': [115.25019, 42.96579]}\n",
      "{'teammate': False, 'actor': False, 'keeper': True, 'location': [118.80414, 38.565067]}\n"
     ]
    }
   ],
   "source": [
    "for i in data.loc[0,\"freeze_frame\"]:\n",
    "    print(i)\n",
    "    "
   ]
  },
  {
   "cell_type": "code",
   "execution_count": 5,
   "id": "22ec96ad",
   "metadata": {},
   "outputs": [
    {
     "name": "stdout",
     "output_type": "stream",
     "text": [
      "(14, 117)\n",
      "id\n",
      "index\n",
      "period\n",
      "timestamp\n",
      "minute\n",
      "second\n",
      "possession\n",
      "duration\n",
      "type_id\n",
      "type_name\n",
      "possession_team_id\n",
      "possession_team_name\n",
      "play_pattern_id\n",
      "play_pattern_name\n",
      "team_id\n",
      "team_name\n",
      "tactics_formation\n",
      "tactics_lineup\n",
      "related_events\n",
      "location\n",
      "player_id\n",
      "player_name\n",
      "position_id\n",
      "position_name\n",
      "pass_recipient_id\n",
      "pass_recipient_name\n",
      "pass_length\n",
      "pass_angle\n",
      "pass_height_id\n",
      "pass_height_name\n",
      "pass_end_location\n",
      "pass_type_id\n",
      "pass_type_name\n",
      "pass_body_part_id\n",
      "pass_body_part_name\n",
      "carry_end_location\n",
      "pass_outcome_id\n",
      "pass_outcome_name\n",
      "ball_receipt_outcome_id\n",
      "ball_receipt_outcome_name\n",
      "under_pressure\n",
      "interception_outcome_id\n",
      "interception_outcome_name\n",
      "pass_cross\n",
      "pass_assisted_shot_id\n",
      "pass_shot_assist\n",
      "duel_type_id\n",
      "duel_type_name\n",
      "shot_statsbomb_xg\n",
      "shot_end_location\n",
      "shot_key_pass_id\n",
      "shot_type_id\n",
      "shot_type_name\n",
      "shot_body_part_id\n",
      "shot_body_part_name\n",
      "shot_aerial_won\n",
      "shot_technique_id\n",
      "shot_technique_name\n",
      "shot_outcome_id\n",
      "shot_outcome_name\n",
      "shot_freeze_frame\n",
      "goalkeeper_end_location\n",
      "goalkeeper_type_id\n",
      "goalkeeper_type_name\n",
      "goalkeeper_position_id\n",
      "goalkeeper_position_name\n",
      "foul_won_defensive\n",
      "off_camera\n",
      "pass_switch\n",
      "pass_technique_id\n",
      "pass_technique_name\n",
      "pass_through_ball\n",
      "pass_aerial_won\n",
      "clearance_body_part_id\n",
      "clearance_body_part_name\n",
      "clearance_left_foot\n",
      "counterpress\n",
      "dribble_outcome_id\n",
      "dribble_outcome_name\n",
      "duel_outcome_id\n",
      "duel_outcome_name\n",
      "out\n",
      "foul_committed_card_id\n",
      "foul_committed_card_name\n",
      "pass_no_touch\n",
      "dribble_overrun\n",
      "pass_cut_back\n",
      "pass_inswinging\n",
      "goalkeeper_outcome_id\n",
      "goalkeeper_outcome_name\n",
      "goalkeeper_body_part_id\n",
      "goalkeeper_body_part_name\n",
      "goalkeeper_technique_id\n",
      "goalkeeper_technique_name\n",
      "clearance_head\n",
      "clearance_right_foot\n",
      "clearance_aerial_won\n",
      "ball_recovery_recovery_failure\n",
      "foul_committed_advantage\n",
      "foul_won_advantage\n",
      "pass_outswinging\n",
      "pass_deflected\n",
      "shot_first_time\n",
      "foul_committed_offensive\n",
      "goalkeeper_success_in_play\n",
      "injury_stoppage_in_chain\n",
      "substitution_outcome_id\n",
      "substitution_outcome_name\n",
      "substitution_replacement_id\n",
      "substitution_replacement_name\n",
      "foul_committed_type_id\n",
      "foul_committed_type_name\n",
      "miscontrol_aerial_won\n",
      "match_id_x\n",
      "visible_area\n",
      "freeze_frame\n",
      "match_id_y\n"
     ]
    }
   ],
   "source": [
    "print(data.shape)\n",
    "for i in data.columns:\n",
    "    print(i)"
   ]
  },
  {
   "cell_type": "code",
   "execution_count": 16,
   "id": "401821ff",
   "metadata": {},
   "outputs": [
    {
     "data": {
      "text/plain": [
       "array(['Goal', 'Blocked', 'Off T', 'Saved', 'Wayward'], dtype=object)"
      ]
     },
     "execution_count": 16,
     "metadata": {},
     "output_type": "execute_result"
    }
   ],
   "source": [
    "data['shot_outcome_name'].unique()\n"
   ]
  },
  {
   "cell_type": "code",
   "execution_count": 9,
   "id": "f828fb6c",
   "metadata": {},
   "outputs": [
    {
     "data": {
      "image/png": "[encoded data removed]",
      "text/plain": [
       "<Figure size 1000x700 with 1 Axes>"
      ]
     },
     "metadata": {},
     "output_type": "display_data"
    }
   ],
   "source": [
    "#plotting shot action\n",
    "#preferrably would have only half a pitch\n",
    "\n",
    "pitchLengthX=120\n",
    "pitchWidthY=80\n",
    "circleSize=0.5\n",
    "\n",
    "from xGpos import xnum1\n",
    "#Draw the pitch\n",
    "from FCPython import createPitch\n",
    "(fig,ax) =createPitch(pitchLengthX,pitchWidthY,'yards','gray')\n",
    "\n",
    "shot = 3\n",
    "#plot ball location\n",
    "x0=data.loc[shot,'location'][0]\n",
    "y0=data.loc[shot,'location'][1]\n",
    "    #x1=pas['pass_end_location'][0]\n",
    "    #y1=pas['pass_end_location'][1]\n",
    "    #dx = (x1-x0)\n",
    "    #dy = (y1-y0)\n",
    "    \n",
    "passCircle= plt.Circle((x0,y0),circleSize,color=\"red\")\n",
    "#passArrow = plt.arrow(x0,y0,dx,dy, width = 0.3,color='blue')\n",
    "ax.add_patch(passCircle)\n",
    "#dtrangle coordinates\n",
    "fp=[120,36]\n",
    "bp=[120,44]\n",
    "tpos = np.array([fp,bp,[x0,y0]])\n",
    "#draw in triangle\n",
    "t1 = plt.Polygon(tpos, color=\"lightblue\")\n",
    "ax.add_patch(t1)\n",
    "\n",
    "#plot players\n",
    "for i in data.loc[shot,\"freeze_frame\"]:\n",
    "    #if i['teammate']:\n",
    "       # col = 'green'\n",
    "    #else:\n",
    "       # col = 'blue'\n",
    "    x = i['location'][0]\n",
    "    y = i['location'][1]\n",
    "    \n",
    "    if(xnum1(np.array([[x,y]]),tpos) and not(i['teammate'])):\n",
    "        col = 'purple'\n",
    "        #print('true')\n",
    "    elif(not(i['teammate'])):\n",
    "        col = 'blue'\n",
    "    else:\n",
    "        col='green'\n",
    "    pos = plt.Circle((x,y),0.3,color=col)\n",
    "    ax.add_patch(pos)\n",
    "\n",
    "     \n",
    "fig.set_size_inches(10, 7)\n",
    "#fig.savefig('Output/shots.pdf', dpi=100) \n",
    "plt.show()"
   ]
  },
  {
   "cell_type": "code",
   "execution_count": 26,
   "id": "75e0d2b7",
   "metadata": {},
   "outputs": [],
   "source": [
    "shots_model = pd.DataFrame(columns=['Goal','X','Y','NmDf'])"
   ]
  },
  {
   "cell_type": "code",
   "execution_count": 24,
   "id": "5b3135d8",
   "metadata": {},
   "outputs": [
    {
     "data": {
      "text/plain": [
       "'Head'"
      ]
     },
     "execution_count": 24,
     "metadata": {},
     "output_type": "execute_result"
    }
   ],
   "source": [
    "data['shot_body_part_name'][1]"
   ]
  },
  {
   "cell_type": "code",
   "execution_count": 39,
   "id": "07634cb8",
   "metadata": {},
   "outputs": [],
   "source": [
    "fp=[120,36]\n",
    "bp=[120,44]\n",
    "tpos = np.array([fp,bp,[x0,y0]])\n",
    "\n",
    "for i,shots in data.iterrows():\n",
    "    #print(data['shot_body_part_name'])\n",
    "    header=0\n",
    "    if(shots['shot_body_part_name']=='Head'):\n",
    "           # print('yes')\n",
    "            header=1\n",
    "    \n",
    "    if not(header):\n",
    "        shots_model.at[i,'X'] = 120 - shots['location'][0]\n",
    "        shots_model.at[i,'Y'] = shots['location'][1]\n",
    "        shots_model.at[i,'C'] = abs(shots['location'][1]-40)\n",
    "        \n",
    "        #Distance in Yards and shot angle in radians\n",
    "        x = shots_model.at[i,'X']\n",
    "        y = shots_model.at[i,'C']\n",
    "        #Euciledean Distance\n",
    "        shots_model.at[i,'Distance'] = np.sqrt(x**2 + y**2)\n",
    "        #angle\n",
    "        #goal size = 8\n",
    "        a = np.arctan(8 *x /(x**2 + y**2 - (8/2)**2))\n",
    "        if a<0:\n",
    "            a=np.pi+a\n",
    "        shots_model.at[i,'Angle'] = a\n",
    "        #Was it a goal\n",
    "        shots_model.at[i,'Goal']=0\n",
    "        if (shots['shot_outcome_name'] == 'Goal'):\n",
    "            shots_model.at[i,'Goal']=1\n",
    "        \n",
    "        #how many opposition players  in front of the shot\n",
    "        #plot players\n",
    "        count = 0\n",
    "        x0 = shots['location'][0]\n",
    "        y0 = shots['location'][1]\n",
    "        #triangle coordinates\n",
    "        tpos = np.array([fp,bp,[x0,y0]])\n",
    "        for j in shots[\"freeze_frame\"]:\n",
    "            xp = j['location'][0]\n",
    "            yp = j['location'][1]\n",
    "            \n",
    "            if(xnum1(np.array([[xp,yp]]),tpos) and not(j['teammate'])):\n",
    "                    count += 1\n",
    "                    \n",
    "        shots_model.at[i,'NmDf'] = count\n",
    "        \n",
    "        "
   ]
  },
  {
   "cell_type": "code",
   "execution_count": 145,
   "id": "508e71d3",
   "metadata": {},
   "outputs": [
    {
     "name": "stdout",
     "output_type": "stream",
     "text": [
      "                   Generalized Linear Model Regression Results                    \n",
      "==================================================================================\n",
      "Dep. Variable:     ['Goal[0]', 'Goal[1]']   No. Observations:                 1697\n",
      "Model:                                GLM   Df Residuals:                     1687\n",
      "Model Family:                    Binomial   Df Model:                            9\n",
      "Link Function:                      Logit   Scale:                          1.0000\n",
      "Method:                              IRLS   Log-Likelihood:                -468.08\n",
      "Date:                    Wed, 19 Oct 2022   Deviance:                       936.17\n",
      "Time:                            14:33:02   Pearson chi2:                 1.86e+03\n",
      "No. Iterations:                        20   Pseudo R-squ. (CS):            0.09451\n",
      "Covariance Type:                nonrobust                                         \n",
      "==============================================================================\n",
      "                 coef    std err          z      P>|z|      [0.025      0.975]\n",
      "------------------------------------------------------------------------------\n",
      "Intercept      0.9809      0.596      1.645      0.100      -0.188       2.149\n",
      "NmDf[T.1]      0.4127      0.287      1.436      0.151      -0.150       0.976\n",
      "NmDf[T.2]      0.7015      0.318      2.207      0.027       0.079       1.325\n",
      "NmDf[T.3]      0.9864      0.440      2.240      0.025       0.123       1.850\n",
      "NmDf[T.4]      1.2322      0.663      1.857      0.063      -0.068       2.532\n",
      "NmDf[T.5]      1.9760      1.160      1.703      0.088      -0.298       4.250\n",
      "NmDf[T.6]     -0.5091      0.845     -0.603      0.547      -2.165       1.147\n",
      "NmDf[T.7]     19.8398   1.45e+04      0.001      0.999   -2.85e+04    2.85e+04\n",
      "Angle         -1.5026      0.437     -3.435      0.001      -2.360      -0.645\n",
      "Distance       0.0829      0.021      4.000      0.000       0.042       0.124\n",
      "==============================================================================\n"
     ]
    }
   ],
   "source": [
    "#Make single variable model of angle\n",
    "#Using logistic regression we find the optimal values of b\n",
    "#This process minimizes the loglikelihood\n",
    "test_model = smf.glm(formula=\"Goal ~ Angle + Distance + NmDf\" , data=shots_model, \n",
    "                           family=sm.families.Binomial()).fit()\n",
    "print(test_model.summary())        \n",
    "b=test_model.params"
   ]
  },
  {
   "cell_type": "code",
   "execution_count": 130,
   "id": "57d093b2",
   "metadata": {},
   "outputs": [
    {
     "name": "stderr",
     "output_type": "stream",
     "text": [
      "/tmp/ipykernel_3965/1165599285.py:3: RuntimeWarning: invalid value encountered in divide\n",
      "  prob_goal=np.divide(goalcount_dist[0],shotcount_dist[0])\n"
     ]
    },
    {
     "data": {
      "image/png": "[encoded data removed]",
      "text/plain": [
       "<Figure size 640x480 with 1 Axes>"
      ]
     },
     "metadata": {},
     "output_type": "display_data"
    }
   ],
   "source": []
  },
  {
   "cell_type": "code",
   "execution_count": 142,
   "id": "49f63f72",
   "metadata": {},
   "outputs": [],
   "source": []
  },
  {
   "cell_type": "code",
   "execution_count": 144,
   "id": "da0a0825",
   "metadata": {},
   "outputs": [
    {
     "data": {
      "image/png": "[encoded data removed]",
      "text/plain": [
       "<Figure size 640x480 with 1 Axes>"
      ]
     },
     "metadata": {},
     "output_type": "display_data"
    }
   ],
   "source": []
  }
 ],
 "metadata": {
  "kernelspec": {
   "display_name": "Python [conda env:football] *",
   "language": "python",
   "name": "conda-env-football-py"
  },
  "language_info": {
   "codemirror_mode": {
    "name": "ipython",
    "version": 3
   },
   "file_extension": ".py",
   "mimetype": "text/x-python",
   "name": "python",
   "nbconvert_exporter": "python",
   "pygments_lexer": "ipython3",
   "version": "3.10.4"
  }
 },
 "nbformat": 4,
 "nbformat_minor": 5
}
