{
 "cells": [
  {
   "cell_type": "code",
   "execution_count": 1,
   "id": "e6756964",
   "metadata": {},
   "outputs": [],
   "source": [
    "import matplotlib.pyplot as plt\n",
    "import numpy as np\n",
    "\n"
   ]
  },
  {
   "cell_type": "code",
   "execution_count": 11,
   "id": "cbb271a2",
   "metadata": {},
   "outputs": [],
   "source": [
    "pitchLengthX=120\n",
    "pitchWidthY=80\n",
    "\n",
    "#ID for England vs Sweden Womens World Cup\n",
    "match_id_required = 69301\n",
    "home_team_required =\"England Women's\"\n",
    "away_team_required =\"Sweden Women's\"\n",
    "\n",
    "# Load in the data\n",
    "# I took this from https://znstrider.github.io/2018-11-11-Getting-Started-with-StatsBomb-Data/\n",
    "file_name=str(match_id_required)+'.json'\n",
    "\n",
    "#Load in all match events \n",
    "import json\n",
    "with open('StatsBombData/data/events/'+file_name) as data_file:\n",
    "    #print (mypath+'events/'+file)\n",
    "    data = json.load(data_file)\n"
   ]
  }
 ],
 "metadata": {
  "kernelspec": {
   "display_name": "Python [conda env:football] *",
   "language": "python",
   "name": "conda-env-football-py"
  },
  "language_info": {
   "codemirror_mode": {
    "name": "ipython",
    "version": 3
   },
   "file_extension": ".py",
   "mimetype": "text/x-python",
   "name": "python",
   "nbconvert_exporter": "python",
   "pygments_lexer": "ipython3",
   "version": "3.10.4"
  }
 },
 "nbformat": 4,
 "nbformat_minor": 5
}
