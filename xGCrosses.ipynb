{
 "cells": [
  {
   "cell_type": "code",
   "execution_count": 3,
   "id": "e5f3983b",
   "metadata": {},
   "outputs": [],
   "source": [
    "#The basics\n",
    "import pandas as pd\n",
    "import numpy as np\n",
    "import json\n",
    "\n",
    "#Plotting\n",
    "import matplotlib.pyplot as plt\n",
    "import FCPython \n",
    "\n",
    "#Statistical fitting of models\n",
    "import statsmodels.api as sm\n",
    "import statsmodels.formula.api as smf\n",
    "\n",
    "#Decide which league to load\n",
    "#Wyscout data from https://figshare.com/collections/Soccer_match_event_dataset/4415000/2\n",
    "with open('wyscoutEvents/events_England.json') as f:\n",
    "    data = json.load(f)\n",
    "#data = pd.DataFrame(data)"
   ]
  },
  {
   "cell_type": "code",
   "execution_count": 13,
   "id": "bcf39d04",
   "metadata": {},
   "outputs": [
    {
     "name": "stdout",
     "output_type": "stream",
     "text": [
      "eventId\n",
      "subEventName\n",
      "tags\n",
      "playerId\n",
      "positions\n",
      "matchId\n",
      "eventName\n",
      "teamId\n",
      "matchPeriod\n",
      "eventSec\n",
      "subEventId\n"
     ]
    }
   ],
   "source": [
    "for i in cross.columns:\n",
    "    print(i)"
   ]
  },
  {
   "cell_type": "code",
   "execution_count": 7,
   "id": "ddf99231",
   "metadata": {},
   "outputs": [
    {
     "data": {
      "text/plain": [
       "49"
      ]
     },
     "execution_count": 7,
     "metadata": {},
     "output_type": "execute_result"
    }
   ],
   "source": [
    "data['positions']"
   ]
  },
  {
   "cell_type": "code",
   "execution_count": 34,
   "id": "a9141497",
   "metadata": {},
   "outputs": [],
   "source": [
    "from typing import Any, Dict, List, Optional, Set\n",
    "\n",
    "def _make_position_vars(event_id: int, positions: List[Dict[str, Optional[float]]]) -> pd.Series:\n",
    "    if len(positions) == 2:  # if less than 2 then action is removed\n",
    "        start_x = positions[0][\"x\"]\n",
    "        start_y = positions[0][\"y\"]\n",
    "        end_x = positions[1][\"x\"]\n",
    "        end_y = positions[1][\"y\"]\n",
    "    elif len(positions) == 1:\n",
    "        start_x = positions[0][\"x\"]\n",
    "        start_y = positions[0][\"y\"]\n",
    "        end_x = start_x\n",
    "        end_y = start_y\n",
    "    else:\n",
    "        start_x = None\n",
    "        start_y = None\n",
    "        end_x = None\n",
    "        end_y = None\n",
    "    return pd.Series([event_id, start_x, start_y, end_x, end_y])\n",
    "\n",
    "def make_new_positions(events: pd.DataFrame) -> pd.DataFrame:\n",
    "    \"\"\"Extract the start and end coordinates for each action.\n",
    "    Parameters\n",
    "    ----------\n",
    "    events : pd.DataFrame\n",
    "        Wyscout event dataframe\n",
    "    Returns\n",
    "    -------\n",
    "    pd.DataFrame\n",
    "        Wyscout event dataframe with start and end coordinates for each action.\n",
    "    \"\"\"\n",
    "    new_positions = events[[ \"positions\"]].apply(\n",
    "        lambda x: _make_position_vars(x[0], x[1]), axis=1\n",
    "    )\n",
    "    #print(new_positions)\n",
    "    new_positions.columns = [ \"start_x\", \"start_y\", \"end_x\", \"end_y\"]\n",
    "    #events = pd.merge(events, new_positions, left_on=\"event_id\", right_on=\"event_id\")\n",
    "    events[[\"start_x\", \"end_x\"]] = events[[\"start_x\", \"end_x\"]]\n",
    "    events[[\"start_y\", \"end_y\"]] = events[[\"start_y\", \"end_y\"]]\n",
    "    events = events.drop(\"positions\", axis=1)\n",
    "    return new_positions"
   ]
  },
  {
   "cell_type": "code",
   "execution_count": null,
   "id": "03afc806",
   "metadata": {},
   "outputs": [],
   "source": []
  },
  {
   "cell_type": "code",
   "execution_count": 78,
   "id": "3fa08ef9",
   "metadata": {},
   "outputs": [],
   "source": [
    "#Create a data set of shots.\n",
    "train = pd.DataFrame(data)\n",
    "#only want the shots\n",
    "cross=train[train['subEventId']==80]\n",
    "#create empty data frame\n",
    "#shots_model=pd.DataFrame(columns=['Goal','X','Y'])\n"
   ]
  },
  {
   "cell_type": "code",
   "execution_count": 10,
   "id": "e990d6d6",
   "metadata": {},
   "outputs": [
    {
     "data": {
      "text/plain": [
       "id\n",
       "177959211      [{'y': 71, 'x': 73}, {'y': 41, 'x': 88}]\n",
       "177959258    [{'y': 10, 'x': 96}, {'y': 100, 'x': 100}]\n",
       "177959264      [{'y': 10, 'x': 92}, {'y': 37, 'x': 93}]\n",
       "177959273    [{'y': 15, 'x': 77}, {'y': 100, 'x': 100}]\n",
       "177959347       [{'y': 6, 'x': 85}, {'y': 38, 'x': 92}]\n",
       "                                ...                    \n",
       "251596201      [{'y': 27, 'x': 71}, {'y': 61, 'x': 86}]\n",
       "251596012      [{'y': 84, 'x': 93}, {'y': 57, 'x': 91}]\n",
       "251596084       [{'y': 75, 'x': 90}, {'y': 8, 'x': 91}]\n",
       "251596388      [{'y': 94, 'x': 86}, {'y': 71, 'x': 88}]\n",
       "251596229        [{'y': 72, 'x': 99}, {'y': 0, 'x': 0}]\n",
       "Name: positions, Length: 12251, dtype: object"
      ]
     },
     "execution_count": 10,
     "metadata": {},
     "output_type": "execute_result"
    }
   ],
   "source": [
    "cross['positions']"
   ]
  },
  {
   "cell_type": "code",
   "execution_count": null,
   "id": "818e7d4a",
   "metadata": {},
   "outputs": [],
   "source": []
  },
  {
   "cell_type": "code",
   "execution_count": 87,
   "id": "19368c72",
   "metadata": {},
   "outputs": [],
   "source": [
    "pitchLengthX=120\n",
    "pitchWidthY=80\n",
    "startx =[]\n",
    "starty= []\n",
    "endx=[]\n",
    "endy=[]\n",
    "for i,cro in cross.iterrows():\n",
    "    #print(cro['positions'][0])\n",
    "    startx.append((cro['positions'][0]['x']/100)*pitchLengthX)\n",
    "    starty.append((cro['positions'][0]['y']/100)*pitchWidthY)\n",
    "    if (cro['positions'][1]['x'] ==100 and cro['positions'][1]['y'] ==100):\n",
    "        continue\n",
    "    elif(cro['positions'][1]['x'] ==0 and cro['positions'][1]['y'] ==0):\n",
    "        continue\n",
    "    else:\n",
    "        endx.append((cro['positions'][1]['x']/100)*pitchLengthX)\n",
    "        endy.append((cro['positions'][1]['y']/100)*pitchWidthY)\n",
    "#make histogram of start crosses\n",
    "H_Cross_start = np.histogram2d(starty, startx,bins=50,range=[[0, pitchWidthY],[0, pitchLengthX]])\n",
    "H_Cross_end = np.histogram2d(endy, endx,bins=50,range=[[0, pitchWidthY],[0, pitchLengthX]])"
   ]
  },
  {
   "cell_type": "code",
   "execution_count": null,
   "id": "f1e91810",
   "metadata": {},
   "outputs": [],
   "source": []
  },
  {
   "cell_type": "code",
   "execution_count": 68,
   "id": "51d6816a",
   "metadata": {},
   "outputs": [],
   "source": []
  },
  {
   "cell_type": "code",
   "execution_count": 82,
   "id": "724b563a",
   "metadata": {},
   "outputs": [
    {
     "data": {
      "image/png": "[encoded data removed]",
      "text/plain": [
       "<Figure size 640x480 with 2 Axes>"
      ]
     },
     "metadata": {},
     "output_type": "display_data"
    }
   ],
   "source": [
    "from FCPython import createPitch\n",
    "(fig,ax) = createPitch(pitchLengthX,pitchWidthY,'yards','gray')\n",
    "pos=ax.imshow(H_Cross_start[0], extent=[0,120,0,80], aspect='auto',cmap=plt.cm.Reds)\n",
    "fig.colorbar(pos, ax=ax)\n",
    "#ax.set_title('Danger passes per match by ' + team_required)\n",
    "plt.xlim((-1,121))\n",
    "plt.ylim((83,-3))\n",
    "plt.tight_layout()\n",
    "plt.gca().set_aspect('equal', adjustable='box')\n",
    "plt.show()\n",
    "\n",
    "#fig.savefig('Output/HeatmapOfPasses' + team_required + '.pdf', dpi=None, bbox_inches=\"tight\") "
   ]
  },
  {
   "cell_type": "code",
   "execution_count": 88,
   "id": "a03ef4c3",
   "metadata": {},
   "outputs": [
    {
     "data": {
      "image/png": "[encoded data removed]",
      "text/plain": [
       "<Figure size 640x480 with 2 Axes>"
      ]
     },
     "metadata": {},
     "output_type": "display_data"
    }
   ],
   "source": [
    "from FCPython import createPitch\n",
    "(fig,ax) = createPitch(pitchLengthX,pitchWidthY,'yards','gray')\n",
    "pos=ax.imshow(H_Cross_end[0], extent=[0,120,0,80], aspect='auto',cmap=plt.cm.Reds)\n",
    "fig.colorbar(pos, ax=ax)\n",
    "#ax.set_title('Danger passes per match by ' + team_required)\n",
    "plt.xlim((-1,121))\n",
    "plt.ylim((83,-3))\n",
    "plt.tight_layout()\n",
    "plt.gca().set_aspect('equal', adjustable='box')\n",
    "plt.show()\n",
    "\n",
    "#fig.savefig('Output/HeatmapOfPasses' + team_required + '.pdf', dpi=None, bbox_inches=\"tight\") "
   ]
  }
 ],
 "metadata": {
  "kernelspec": {
   "display_name": "Python [conda env:football] *",
   "language": "python",
   "name": "conda-env-football-py"
  },
  "language_info": {
   "codemirror_mode": {
    "name": "ipython",
    "version": 3
   },
   "file_extension": ".py",
   "mimetype": "text/x-python",
   "name": "python",
   "nbconvert_exporter": "python",
   "pygments_lexer": "ipython3",
   "version": "3.10.4"
  }
 },
 "nbformat": 4,
 "nbformat_minor": 5
}
