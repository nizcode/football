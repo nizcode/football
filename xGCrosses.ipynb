{
 "cells": [
  {
   "cell_type": "code",
   "execution_count": 90,
   "id": "e5f3983b",
   "metadata": {},
   "outputs": [],
   "source": [
    "#The basics\n",
    "import pandas as pd\n",
    "import numpy as np\n",
    "import json\n",
    "\n",
    "#Xg MODEL\n",
    "from expectedGoal import xG\n",
    "\n",
    "#Plotting\n",
    "import matplotlib.pyplot as plt\n",
    "import FCPython \n",
    "\n",
    "#Statistical fitting of models\n",
    "import statsmodels.api as sm\n",
    "import statsmodels.formula.api as smf\n",
    "\n",
    "#Decide which league to load\n",
    "#Wyscout data from https://figshare.com/collections/Soccer_match_event_dataset/4415000/2\n",
    "with open('wyscoutEvents/events_England.json') as f:\n",
    "    data = json.load(f)\n",
    "#data = pd.DataFrame(data)\n"
   ]
  },
  {
   "cell_type": "code",
   "execution_count": 2,
   "id": "3fa08ef9",
   "metadata": {},
   "outputs": [],
   "source": [
    "#Create a data set of shots.\n",
    "train = pd.DataFrame(data)\n",
    "#only want the shots\n",
    "cross=train[train['subEventId']==80]\n",
    "#create empty data frame\n",
    "#shots_model=pd.DataFrame(columns=['Goal','X','Y'])\n"
   ]
  },
  {
   "cell_type": "code",
   "execution_count": 25,
   "id": "8217f9e3",
   "metadata": {},
   "outputs": [
    {
     "data": {
      "text/plain": [
       "380"
      ]
     },
     "execution_count": 25,
     "metadata": {},
     "output_type": "execute_result"
    }
   ],
   "source": [
    "len(train['matchId'].unique())"
   ]
  },
  {
   "cell_type": "code",
   "execution_count": 14,
   "id": "e990d6d6",
   "metadata": {},
   "outputs": [
    {
     "data": {
      "text/plain": [
       "Index(['eventId', 'subEventName', 'tags', 'playerId', 'positions', 'matchId',\n",
       "       'eventName', 'teamId', 'matchPeriod', 'eventSec', 'subEventId', 'id'],\n",
       "      dtype='object')"
      ]
     },
     "execution_count": 14,
     "metadata": {},
     "output_type": "execute_result"
    }
   ],
   "source": [
    "cross.columns"
   ]
  },
  {
   "cell_type": "code",
   "execution_count": 17,
   "id": "0b36ef93",
   "metadata": {},
   "outputs": [
    {
     "data": {
      "text/plain": [
       "45          93.961235\n",
       "75         228.764258\n",
       "80         235.809436\n",
       "86         251.068319\n",
       "137        486.183517\n",
       "             ...     \n",
       "642828    1482.329472\n",
       "642900    1809.230004\n",
       "642989    2079.858095\n",
       "643096    2642.981466\n",
       "643143    2789.232666\n",
       "Name: eventSec, Length: 12251, dtype: float64"
      ]
     },
     "execution_count": 17,
     "metadata": {},
     "output_type": "execute_result"
    }
   ],
   "source": [
    "cross['eventSec']"
   ]
  },
  {
   "cell_type": "code",
   "execution_count": 4,
   "id": "818e7d4a",
   "metadata": {},
   "outputs": [
    {
     "data": {
      "text/plain": [
       "45        [{'id': 301}, {'id': 402}, {'id': 801}, {'id':...\n",
       "75        [{'id': 1901}, {'id': 401}, {'id': 2101}, {'id...\n",
       "80                              [{'id': 401}, {'id': 1801}]\n",
       "86                 [{'id': 402}, {'id': 801}, {'id': 1802}]\n",
       "137                             [{'id': 401}, {'id': 1802}]\n",
       "                                ...                        \n",
       "642828             [{'id': 401}, {'id': 801}, {'id': 1802}]\n",
       "642900             [{'id': 302}, {'id': 402}, {'id': 1801}]\n",
       "642989             [{'id': 402}, {'id': 801}, {'id': 1801}]\n",
       "643096                          [{'id': 402}, {'id': 1802}]\n",
       "643143            [{'id': 402}, {'id': 2101}, {'id': 1802}]\n",
       "Name: tags, Length: 12251, dtype: object"
      ]
     },
     "execution_count": 4,
     "metadata": {},
     "output_type": "execute_result"
    }
   ],
   "source": [
    "cross['tags']"
   ]
  },
  {
   "cell_type": "code",
   "execution_count": 5,
   "id": "19368c72",
   "metadata": {},
   "outputs": [],
   "source": [
    "pitchLengthX=120\n",
    "pitchWidthY=80\n",
    "startx =[]\n",
    "starty= []\n",
    "endx=[]\n",
    "endy=[]\n",
    "for i,cro in cross.iterrows():\n",
    "    #print(cro['positions'][0])\n",
    "    startx.append((cro['positions'][0]['x']/100)*pitchLengthX)\n",
    "    starty.append((cro['positions'][0]['y']/100)*pitchWidthY)\n",
    "    if (cro['positions'][1]['x'] ==100 and cro['positions'][1]['y'] ==100):\n",
    "        continue\n",
    "    elif(cro['positions'][1]['x'] ==0 and cro['positions'][1]['y'] ==0):\n",
    "        continue\n",
    "    else:\n",
    "        endx.append((cro['positions'][1]['x']/100)*pitchLengthX)\n",
    "        endy.append((cro['positions'][1]['y']/100)*pitchWidthY)\n",
    "#make histogram of start crosses\n",
    "H_Cross_start = np.histogram2d(starty, startx,bins=50,range=[[0, pitchWidthY],[0, pitchLengthX]])\n",
    "H_Cross_end = np.histogram2d(endy, endx,bins=50,range=[[0, pitchWidthY],[0, pitchLengthX]])"
   ]
  },
  {
   "cell_type": "code",
   "execution_count": 6,
   "id": "724b563a",
   "metadata": {},
   "outputs": [
    {
     "data": {
      "image/png": "[encoded data removed]",
      "text/plain": [
       "<Figure size 640x480 with 2 Axes>"
      ]
     },
     "metadata": {},
     "output_type": "display_data"
    }
   ],
   "source": [
    "from FCPython import createPitch\n",
    "(fig,ax) = createPitch(pitchLengthX,pitchWidthY,'yards','gray')\n",
    "pos=ax.imshow(H_Cross_start[0], extent=[0,120,0,80], aspect='auto',cmap=plt.cm.Reds)\n",
    "fig.colorbar(pos, ax=ax)\n",
    "#ax.set_title('Danger passes per match by ' + team_required)\n",
    "plt.xlim((-1,121))\n",
    "plt.ylim((83,-3))\n",
    "plt.tight_layout()\n",
    "plt.gca().set_aspect('equal', adjustable='box')\n",
    "plt.show()\n",
    "\n",
    "#fig.savefig('Output/HeatmapOfPasses' + team_required + '.pdf', dpi=None, bbox_inches=\"tight\") "
   ]
  },
  {
   "cell_type": "code",
   "execution_count": 7,
   "id": "a03ef4c3",
   "metadata": {},
   "outputs": [
    {
     "data": {
      "image/png": "[encoded data removed]",
      "text/plain": [
       "<Figure size 640x480 with 2 Axes>"
      ]
     },
     "metadata": {},
     "output_type": "display_data"
    }
   ],
   "source": [
    "from FCPython import createPitch\n",
    "(fig,ax) = createPitch(pitchLengthX,pitchWidthY,'yards','gray')\n",
    "pos=ax.imshow(H_Cross_end[0], extent=[0,120,0,80], aspect='auto',cmap=plt.cm.Reds)\n",
    "fig.colorbar(pos, ax=ax)\n",
    "#ax.set_title('Danger passes per match by ' + team_required)\n",
    "plt.xlim((-1,121))\n",
    "plt.ylim((83,-3))\n",
    "plt.tight_layout()\n",
    "plt.gca().set_aspect('equal', adjustable='box')\n",
    "plt.show()\n",
    "\n",
    "#fig.savefig('Output/HeatmapOfPasses' + team_required + '.pdf', dpi=None, bbox_inches=\"tight\") "
   ]
  },
  {
   "cell_type": "code",
   "execution_count": 9,
   "id": "217f6f62",
   "metadata": {},
   "outputs": [],
   "source": [
    "def P2Gangle(x,y):\n",
    "    #x distance from endline to point\n",
    "    #y distance from point to centrline of pitch \n",
    "    a = 11\n",
    "    b = np.sqrt((x-11)**2+y**2)\n",
    "    c = np.sqrt(x**2 + y**2)\n",
    "    theta = np.arccos((a**2-b**2-c**2)/(-2*b*c))\n",
    "    return(np.degrees(theta))"
   ]
  },
  {
   "cell_type": "code",
   "execution_count": 10,
   "id": "cdd90623",
   "metadata": {},
   "outputs": [
    {
     "data": {
      "text/plain": [
       "14.821068070918363"
      ]
     },
     "execution_count": 10,
     "metadata": {},
     "output_type": "execute_result"
    }
   ],
   "source": [
    "x=27\n",
    "y=21\n",
    "a = 11\n",
    "b = np.sqrt((x-11)**2+y**2)\n",
    "c = np.sqrt(x**2 + y**2)\n",
    "theta = np.arccos((a**2-b**2-c**2)/(-2*b*c))\n",
    "P2Gangle(x,y)"
   ]
  },
  {
   "cell_type": "code",
   "execution_count": 26,
   "id": "1d121112",
   "metadata": {},
   "outputs": [
    {
     "data": {
      "text/plain": [
       "45        [{'id': 301}, {'id': 402}, {'id': 801}, {'id':...\n",
       "75        [{'id': 1901}, {'id': 401}, {'id': 2101}, {'id...\n",
       "80                              [{'id': 401}, {'id': 1801}]\n",
       "86                 [{'id': 402}, {'id': 801}, {'id': 1802}]\n",
       "137                             [{'id': 401}, {'id': 1802}]\n",
       "                                ...                        \n",
       "642828             [{'id': 401}, {'id': 801}, {'id': 1802}]\n",
       "642900             [{'id': 302}, {'id': 402}, {'id': 1801}]\n",
       "642989             [{'id': 402}, {'id': 801}, {'id': 1801}]\n",
       "643096                          [{'id': 402}, {'id': 1802}]\n",
       "643143            [{'id': 402}, {'id': 2101}, {'id': 1802}]\n",
       "Name: tags, Length: 12251, dtype: object"
      ]
     },
     "execution_count": 26,
     "metadata": {},
     "output_type": "execute_result"
    }
   ],
   "source": [
    "cross['tags']"
   ]
  },
  {
   "cell_type": "code",
   "execution_count": 94,
   "id": "fe980727",
   "metadata": {},
   "outputs": [],
   "source": [
    "#only gonna look at successful crosses now\n",
    "#location of orignal cross\n",
    "cross_model = pd.DataFrame(columns=['Successful','X','Y'])\n",
    "\n",
    "for i,c in cross.iterrows():\n",
    "    #match id\n",
    "    cross_model.at[i,'matchId']=c['matchId']\n",
    "    #time of event\n",
    "    cross_model.at[i,'matchPeriod'] = c['matchPeriod']\n",
    "    cross_model.at[i,'Sec']=c['eventSec']\n",
    "    #distance from attacking goal endline\n",
    "    cross_model.at[i,'X']=100-c['positions'][0]['x']\n",
    "    cross_model.at[i,'Y']=c['positions'][0]['y']\n",
    "    cross_model.at[i,'C']=abs(c['positions'][0]['y']-50)#distance from centre line\n",
    "    \n",
    "    #get xG of end location\n",
    "    \n",
    "    \n",
    "    #distance from goal\n",
    "    x=cross_model.at[i,'X']*105/100\n",
    "    y=cross_model.at[i,'C']*65/100\n",
    "        #Euciledean Distance\n",
    "    cross_model.at[i,'Distance']=np.sqrt(x**2 + y**2)\n",
    "    \n",
    "    #angle peno spot to 6 yard box\n",
    "    cross_model.at[i,'Angle'] = P2Gangle(x,y)\n",
    "    \n",
    "    #corner?\n",
    "    cross_model.at[i,'Corner']=0\n",
    "    if c['eventId']==3:\n",
    "        cross_model.at['Corner']=1\n",
    "    #high or low\n",
    "    cross_model.at[i,'Goal']=0\n",
    "    cross_model.at[i,'Successful']=0\n",
    "    cross_model.at[i,'high']=0\n",
    "    cross_model.at[i,'inverted']=0\n",
    "    cross_model.at[i,'xG']=0\n",
    "    \n",
    "    \n",
    "    for tags in c['tags']:\n",
    "        if tags['id'] == 1801:\n",
    "            cross_model.at[i,'Successful']=1\n",
    "            \n",
    "            x=100-c['positions'][1]['x']#use .at to access single value, similar to .loc\n",
    "        #y coordinate unchanged\n",
    "            y=c['positions'][1]['y']#2 dictionary within a list, keys = 'x','y'\n",
    "        #to get the distance shot to the center line\n",
    "            c=abs(c['positions'][1]['y']-50)\n",
    "    \n",
    "        #Distance in metres and shot angle in radians.\n",
    "        #x and y data are actually percentage of field.\n",
    "        #in order to get actual meters divide by hundered to get fraction then mulitply by the dimensions\n",
    "        #105by65\n",
    "            x=x*105/100\n",
    "            y=y*65/100\n",
    "        #Euciledean Distance\n",
    "            s=np.sqrt(x**2 + y**2)\n",
    "        #angle\n",
    "            a = np.arctan(7.32 *x /(x**2 + y**2 - (7.32/2)**2))\n",
    "        \n",
    "\n",
    "            cross_model.at[i,'xG'] = xG(a=a,d=s)\n",
    "            \n",
    "        if tags['id'] == 301:\n",
    "            cross_model.at[i,'Goal']=1\n",
    "        \n",
    "        if tags['id'] == 801:\n",
    "            cross_model.at[i,'high']=1\n",
    "        if tags['id'] == 802:\n",
    "            cross_model.at[i,'high']=2\n",
    "            #https://dataglossary.wyscout.com/pitch_coordinates/ needed to understand where is left and right flank\n",
    "       # if ((c['positions'][0]['y']-50) < 0) and (tags['id'] == 402):\n",
    "         #   cross_model.at[i,'inverted']=1\n",
    "  #      if ((c['positions'][0]['y']-50) > 0) and (tags['id'] == 401):\n",
    "   #         cross_model.at[i,'inverted']=1\n",
    "            \n",
    "            \n",
    "        "
   ]
  },
  {
   "cell_type": "code",
   "execution_count": 95,
   "id": "fd34080c",
   "metadata": {},
   "outputs": [
    {
     "data": {
      "text/html": [
       "<div>\n",
       "<style scoped>\n",
       "    .dataframe tbody tr th:only-of-type {\n",
       "        vertical-align: middle;\n",
       "    }\n",
       "\n",
       "    .dataframe tbody tr th {\n",
       "        vertical-align: top;\n",
       "    }\n",
       "\n",
       "    .dataframe thead th {\n",
       "        text-align: right;\n",
       "    }\n",
       "</style>\n",
       "<table border=\"1\" class=\"dataframe\">\n",
       "  <thead>\n",
       "    <tr style=\"text-align: right;\">\n",
       "      <th></th>\n",
       "      <th>Successful</th>\n",
       "      <th>X</th>\n",
       "      <th>Y</th>\n",
       "      <th>matchId</th>\n",
       "      <th>matchPeriod</th>\n",
       "      <th>Sec</th>\n",
       "      <th>C</th>\n",
       "      <th>Distance</th>\n",
       "      <th>Angle</th>\n",
       "      <th>Corner</th>\n",
       "      <th>Goal</th>\n",
       "      <th>high</th>\n",
       "      <th>inverted</th>\n",
       "      <th>xG</th>\n",
       "    </tr>\n",
       "  </thead>\n",
       "  <tbody>\n",
       "    <tr>\n",
       "      <th>45</th>\n",
       "      <td>1</td>\n",
       "      <td>27</td>\n",
       "      <td>71</td>\n",
       "      <td>2499719.0</td>\n",
       "      <td>1H</td>\n",
       "      <td>93.961235</td>\n",
       "      <td>21.0</td>\n",
       "      <td>31.464981</td>\n",
       "      <td>12.483716</td>\n",
       "      <td>0.0</td>\n",
       "      <td>1.0</td>\n",
       "      <td>1.0</td>\n",
       "      <td>0.0</td>\n",
       "      <td>0.016273</td>\n",
       "    </tr>\n",
       "    <tr>\n",
       "      <th>75</th>\n",
       "      <td>0</td>\n",
       "      <td>4</td>\n",
       "      <td>10</td>\n",
       "      <td>2499719.0</td>\n",
       "      <td>1H</td>\n",
       "      <td>228.764258</td>\n",
       "      <td>40.0</td>\n",
       "      <td>26.337046</td>\n",
       "      <td>23.832954</td>\n",
       "      <td>0.0</td>\n",
       "      <td>0.0</td>\n",
       "      <td>0.0</td>\n",
       "      <td>0.0</td>\n",
       "      <td>0.000000</td>\n",
       "    </tr>\n",
       "    <tr>\n",
       "      <th>80</th>\n",
       "      <td>1</td>\n",
       "      <td>8</td>\n",
       "      <td>10</td>\n",
       "      <td>2499719.0</td>\n",
       "      <td>1H</td>\n",
       "      <td>235.809436</td>\n",
       "      <td>40.0</td>\n",
       "      <td>27.323250</td>\n",
       "      <td>23.615041</td>\n",
       "      <td>0.0</td>\n",
       "      <td>0.0</td>\n",
       "      <td>0.0</td>\n",
       "      <td>0.0</td>\n",
       "      <td>0.025665</td>\n",
       "    </tr>\n",
       "    <tr>\n",
       "      <th>86</th>\n",
       "      <td>0</td>\n",
       "      <td>23</td>\n",
       "      <td>15</td>\n",
       "      <td>2499719.0</td>\n",
       "      <td>1H</td>\n",
       "      <td>251.068319</td>\n",
       "      <td>35.0</td>\n",
       "      <td>33.178080</td>\n",
       "      <td>16.680958</td>\n",
       "      <td>0.0</td>\n",
       "      <td>0.0</td>\n",
       "      <td>1.0</td>\n",
       "      <td>0.0</td>\n",
       "      <td>0.000000</td>\n",
       "    </tr>\n",
       "    <tr>\n",
       "      <th>137</th>\n",
       "      <td>0</td>\n",
       "      <td>15</td>\n",
       "      <td>6</td>\n",
       "      <td>2499719.0</td>\n",
       "      <td>1H</td>\n",
       "      <td>486.183517</td>\n",
       "      <td>44.0</td>\n",
       "      <td>32.650000</td>\n",
       "      <td>19.411714</td>\n",
       "      <td>0.0</td>\n",
       "      <td>0.0</td>\n",
       "      <td>0.0</td>\n",
       "      <td>0.0</td>\n",
       "      <td>0.000000</td>\n",
       "    </tr>\n",
       "    <tr>\n",
       "      <th>...</th>\n",
       "      <td>...</td>\n",
       "      <td>...</td>\n",
       "      <td>...</td>\n",
       "      <td>...</td>\n",
       "      <td>...</td>\n",
       "      <td>...</td>\n",
       "      <td>...</td>\n",
       "      <td>...</td>\n",
       "      <td>...</td>\n",
       "      <td>...</td>\n",
       "      <td>...</td>\n",
       "      <td>...</td>\n",
       "      <td>...</td>\n",
       "      <td>...</td>\n",
       "    </tr>\n",
       "    <tr>\n",
       "      <th>642828</th>\n",
       "      <td>0</td>\n",
       "      <td>29</td>\n",
       "      <td>27</td>\n",
       "      <td>2500098.0</td>\n",
       "      <td>2H</td>\n",
       "      <td>1482.329472</td>\n",
       "      <td>23.0</td>\n",
       "      <td>33.922043</td>\n",
       "      <td>11.397634</td>\n",
       "      <td>0.0</td>\n",
       "      <td>0.0</td>\n",
       "      <td>1.0</td>\n",
       "      <td>0.0</td>\n",
       "      <td>0.000000</td>\n",
       "    </tr>\n",
       "    <tr>\n",
       "      <th>642900</th>\n",
       "      <td>1</td>\n",
       "      <td>7</td>\n",
       "      <td>84</td>\n",
       "      <td>2500098.0</td>\n",
       "      <td>2H</td>\n",
       "      <td>1809.230004</td>\n",
       "      <td>34.0</td>\n",
       "      <td>23.290180</td>\n",
       "      <td>27.774270</td>\n",
       "      <td>0.0</td>\n",
       "      <td>0.0</td>\n",
       "      <td>0.0</td>\n",
       "      <td>0.0</td>\n",
       "      <td>0.005618</td>\n",
       "    </tr>\n",
       "    <tr>\n",
       "      <th>642989</th>\n",
       "      <td>1</td>\n",
       "      <td>10</td>\n",
       "      <td>75</td>\n",
       "      <td>2500098.0</td>\n",
       "      <td>2H</td>\n",
       "      <td>2079.858095</td>\n",
       "      <td>25.0</td>\n",
       "      <td>19.347157</td>\n",
       "      <td>34.631070</td>\n",
       "      <td>0.0</td>\n",
       "      <td>0.0</td>\n",
       "      <td>1.0</td>\n",
       "      <td>0.0</td>\n",
       "      <td>0.207503</td>\n",
       "    </tr>\n",
       "    <tr>\n",
       "      <th>643096</th>\n",
       "      <td>0</td>\n",
       "      <td>14</td>\n",
       "      <td>94</td>\n",
       "      <td>2500098.0</td>\n",
       "      <td>2H</td>\n",
       "      <td>2642.981466</td>\n",
       "      <td>44.0</td>\n",
       "      <td>32.156648</td>\n",
       "      <td>19.831082</td>\n",
       "      <td>0.0</td>\n",
       "      <td>0.0</td>\n",
       "      <td>0.0</td>\n",
       "      <td>0.0</td>\n",
       "      <td>0.000000</td>\n",
       "    </tr>\n",
       "    <tr>\n",
       "      <th>643143</th>\n",
       "      <td>0</td>\n",
       "      <td>1</td>\n",
       "      <td>72</td>\n",
       "      <td>2500098.0</td>\n",
       "      <td>2H</td>\n",
       "      <td>2789.232666</td>\n",
       "      <td>22.0</td>\n",
       "      <td>14.338497</td>\n",
       "      <td>39.029855</td>\n",
       "      <td>0.0</td>\n",
       "      <td>0.0</td>\n",
       "      <td>0.0</td>\n",
       "      <td>0.0</td>\n",
       "      <td>0.000000</td>\n",
       "    </tr>\n",
       "  </tbody>\n",
       "</table>\n",
       "<p>12251 rows × 14 columns</p>\n",
       "</div>"
      ],
      "text/plain": [
       "       Successful   X   Y    matchId matchPeriod          Sec     C  \\\n",
       "45              1  27  71  2499719.0          1H    93.961235  21.0   \n",
       "75              0   4  10  2499719.0          1H   228.764258  40.0   \n",
       "80              1   8  10  2499719.0          1H   235.809436  40.0   \n",
       "86              0  23  15  2499719.0          1H   251.068319  35.0   \n",
       "137             0  15   6  2499719.0          1H   486.183517  44.0   \n",
       "...           ...  ..  ..        ...         ...          ...   ...   \n",
       "642828          0  29  27  2500098.0          2H  1482.329472  23.0   \n",
       "642900          1   7  84  2500098.0          2H  1809.230004  34.0   \n",
       "642989          1  10  75  2500098.0          2H  2079.858095  25.0   \n",
       "643096          0  14  94  2500098.0          2H  2642.981466  44.0   \n",
       "643143          0   1  72  2500098.0          2H  2789.232666  22.0   \n",
       "\n",
       "         Distance      Angle  Corner  Goal  high  inverted        xG  \n",
       "45      31.464981  12.483716     0.0   1.0   1.0       0.0  0.016273  \n",
       "75      26.337046  23.832954     0.0   0.0   0.0       0.0  0.000000  \n",
       "80      27.323250  23.615041     0.0   0.0   0.0       0.0  0.025665  \n",
       "86      33.178080  16.680958     0.0   0.0   1.0       0.0  0.000000  \n",
       "137     32.650000  19.411714     0.0   0.0   0.0       0.0  0.000000  \n",
       "...           ...        ...     ...   ...   ...       ...       ...  \n",
       "642828  33.922043  11.397634     0.0   0.0   1.0       0.0  0.000000  \n",
       "642900  23.290180  27.774270     0.0   0.0   0.0       0.0  0.005618  \n",
       "642989  19.347157  34.631070     0.0   0.0   1.0       0.0  0.207503  \n",
       "643096  32.156648  19.831082     0.0   0.0   0.0       0.0  0.000000  \n",
       "643143  14.338497  39.029855     0.0   0.0   0.0       0.0  0.000000  \n",
       "\n",
       "[12251 rows x 14 columns]"
      ]
     },
     "execution_count": 95,
     "metadata": {},
     "output_type": "execute_result"
    }
   ],
   "source": [
    "cross_model"
   ]
  },
  {
   "cell_type": "code",
   "execution_count": 66,
   "id": "443179de",
   "metadata": {},
   "outputs": [
    {
     "name": "stdout",
     "output_type": "stream",
     "text": [
      "                         Generalized Linear Model Regression Results                          \n",
      "==============================================================================================\n",
      "Dep. Variable:     ['Successful[0]', 'Successful[1]']   No. Observations:                12251\n",
      "Model:                                            GLM   Df Residuals:                    12249\n",
      "Model Family:                                Binomial   Df Model:                            1\n",
      "Link Function:                                  Logit   Scale:                          1.0000\n",
      "Method:                                          IRLS   Log-Likelihood:                -7551.0\n",
      "Date:                                Sun, 23 Oct 2022   Deviance:                       15102.\n",
      "Time:                                        18:09:42   Pearson chi2:                 1.23e+04\n",
      "No. Iterations:                                     5   Pseudo R-squ. (CS):          0.0007659\n",
      "Covariance Type:                            nonrobust                                         \n",
      "==============================================================================\n",
      "                 coef    std err          z      P>|z|      [0.025      0.975]\n",
      "------------------------------------------------------------------------------\n",
      "Intercept      1.0426      0.077     13.459      0.000       0.891       1.194\n",
      "Distance      -0.0082      0.003     -3.062      0.002      -0.013      -0.003\n",
      "==============================================================================\n"
     ]
    }
   ],
   "source": [
    "#build logistical model\n",
    "#only ging to look at distance from goal first\n",
    "#Make single variable model of angle\n",
    "#Using logistic regression we find the optimal values of b\n",
    "#This process minimizes the loglikelihood\n",
    "test_model = smf.glm(formula=\"Successful ~ Distance\" , data=cross_model, \n",
    "                           family=sm.families.Binomial()).fit()\n",
    "print(test_model.summary())        \n",
    "b=test_model.params"
   ]
  },
  {
   "cell_type": "code",
   "execution_count": 47,
   "id": "b5fbf674",
   "metadata": {},
   "outputs": [
    {
     "data": {
      "text/plain": [
       "count    12251.000000\n",
       "mean        27.873591\n",
       "std          7.339593\n",
       "min          4.669582\n",
       "25%         23.036113\n",
       "50%         28.272115\n",
       "75%         32.919447\n",
       "max         79.106337\n",
       "Name: Distance, dtype: float64"
      ]
     },
     "execution_count": 47,
     "metadata": {},
     "output_type": "execute_result"
    }
   ],
   "source": [
    "cross_model['Distance'].describe()"
   ]
  },
  {
   "cell_type": "code",
   "execution_count": 71,
   "id": "9e4f2536",
   "metadata": {},
   "outputs": [
    {
     "name": "stderr",
     "output_type": "stream",
     "text": [
      "/tmp/ipykernel_3987/360355090.py:4: RuntimeWarning: invalid value encountered in divide\n",
      "  prob_succ=np.nan_to_num(np.divide(succcount_dist[0],count_dist[0]))\n"
     ]
    }
   ],
   "source": [
    "#Show empirically how distance from goal predicts probability of successful cross\n",
    "succcount_dist=np.histogram(cross_model.loc[cross_model['Successful']==1,'Distance'],bins=40,range=[4, 70])\n",
    "count_dist=np.histogram(cross_model['Distance'],bins=40,range=[4, 70])\n",
    "prob_succ=np.nan_to_num(np.divide(succcount_dist[0],count_dist[0]))\n",
    "dis=count_dist[1]"
   ]
  },
  {
   "cell_type": "code",
   "execution_count": 72,
   "id": "2d8e4e6c",
   "metadata": {},
   "outputs": [
    {
     "data": {
      "image/png": "[encoded data removed]",
      "text/plain": [
       "<Figure size 640x480 with 1 Axes>"
      ]
     },
     "metadata": {},
     "output_type": "display_data"
    }
   ],
   "source": [
    "#ValueError: x and y must have same first dimension, but have shapes (41,) and (40,)\n",
    "middis= (dis[:-1] + dis[1:])/2\n",
    "\n",
    "#plotting the probabilty of successful using distance from goal\n",
    "xCprob=1/(1+np.exp(b[0]+b[1]*middis)) \n",
    "fig,ax=plt.subplots(num=1)\n",
    "ax.plot(middis, prob_succ, linestyle='none', marker= '.', color='black')\n",
    "ax.plot(middis, xCprob, linestyle='solid', color='black')\n",
    "ax.set_ylabel('Probability chance of successful cross')\n",
    "ax.set_xlabel(\"distance from goal\")\n",
    "ax.spines['top'].set_visible(False)\n",
    "ax.spines['right'].set_visible(False)\n",
    "plt.show()\n",
    "#fig.savefig('Output/ProbabilityOfScoringAngleFit.pdf', dpi=None, bbox_inches=\"tight\")   \n",
    "\n",
    "\n"
   ]
  },
  {
   "cell_type": "code",
   "execution_count": 74,
   "id": "85c0746f",
   "metadata": {},
   "outputs": [
    {
     "data": {
      "text/plain": [
       "Index(['Successful', 'X', 'Y', 'matchId', 'matchPeriod', 'Sec', 'C',\n",
       "       'Distance', 'Angle', 'Corner', 'Goal', 'height', 'inverted'],\n",
       "      dtype='object')"
      ]
     },
     "execution_count": 74,
     "metadata": {},
     "output_type": "execute_result"
    }
   ],
   "source": [
    "cross_model.columns"
   ]
  },
  {
   "cell_type": "code",
   "execution_count": 84,
   "id": "2009f008",
   "metadata": {},
   "outputs": [],
   "source": [
    "model_variables = ['Angle','Distance','inverted']#,'X','C']\n",
    "model=''\n",
    "for v in model_variables[:-1]:\n",
    "    model = model  + v + ' + '\n",
    "model = model + model_variables[-1]"
   ]
  },
  {
   "cell_type": "code",
   "execution_count": 85,
   "id": "e84f2abf",
   "metadata": {},
   "outputs": [
    {
     "name": "stdout",
     "output_type": "stream",
     "text": [
      "                 Generalized Linear Model Regression Results                  \n",
      "==============================================================================\n",
      "Dep. Variable:                   Goal   No. Observations:                12251\n",
      "Model:                            GLM   Df Residuals:                    12247\n",
      "Model Family:                Binomial   Df Model:                            3\n",
      "Link Function:                  Logit   Scale:                          1.0000\n",
      "Method:                          IRLS   Log-Likelihood:                -973.71\n",
      "Date:                Sun, 23 Oct 2022   Deviance:                       1947.4\n",
      "Time:                        18:24:04   Pearson chi2:                 1.22e+04\n",
      "No. Iterations:                     8   Pseudo R-squ. (CS):           0.003071\n",
      "Covariance Type:            nonrobust                                         \n",
      "==============================================================================\n",
      "                 coef    std err          z      P>|z|      [0.025      0.975]\n",
      "------------------------------------------------------------------------------\n",
      "Intercept     -2.8842      1.392     -2.071      0.038      -5.613      -0.155\n",
      "Angle          0.0055      0.023      0.241      0.809      -0.039       0.050\n",
      "Distance      -0.0543      0.031     -1.731      0.083      -0.116       0.007\n",
      "inverted       0.1953      0.189      1.036      0.300      -0.174       0.565\n",
      "==============================================================================\n"
     ]
    }
   ],
   "source": [
    "#simple model only looking at distance and angle\n",
    "#Fit the model\n",
    "\n",
    "test_model = smf.glm(formula=\"Goal ~ \" + model, data=cross_model, \n",
    "                           family=sm.families.Binomial()).fit()\n",
    "print(test_model.summary())        \n",
    "b=test_model.params"
   ]
  },
  {
   "cell_type": "code",
   "execution_count": null,
   "id": "2575dce6",
   "metadata": {},
   "outputs": [],
   "source": [
    "#Return xC value for more general model\n",
    "#sh = row of the shots_model df\n",
    "#%%capture\n",
    "def calculate_xC(sh):\n",
    "#sh = shots_model.iloc[1,:]\n",
    "    bsum=b[0]\n",
    "    for i,v in enumerate(model_variables):\n",
    "        print(sh[v])\n",
    "        bsum=bsum+b[i+1]*sh[v]\n",
    "    xG = 1/(1+np.exp(bsum)) \n",
    "    return xG   \n",
    "#xG\n",
    "#Add an xG to my dataframe\n",
    "#usiong apply function, only works if input to the function is a row\n",
    "\n",
    "\n"
   ]
  },
  {
   "cell_type": "code",
   "execution_count": null,
   "id": "4e758b66",
   "metadata": {},
   "outputs": [],
   "source": [
    "#Create a 2D map of xC\n",
    "#therefore getting the xC for every possible position on the pitch\n",
    "#create a df with the fake xs, and ys and hence angles\n",
    "\n",
    "pgoal_2d=np.zeros((65,65))\n",
    "\n",
    "for x in range(65):\n",
    "    for y in range(65):\n",
    "        sh=dict()\n",
    "        a = np.arctan(7.32 *x /(x**2 + abs(y-65/2)**2 - (7.32/2)**2))\n",
    "        if a<0:\n",
    "            a = np.pi + a\n",
    "        \n",
    "        sh['Angle'] = a\n",
    "        sh['Distance'] = np.sqrt(x**2 + abs(y-65/2)**2)\n",
    "        #sh['D2'] = x**2 + abs(y-65/2)**2\n",
    "        #sh['X'] = x\n",
    "        #sh['AX'] = x*a\n",
    "        #sh['X2'] = x**2\n",
    "        #sh['C'] = abs(y-65/2)\n",
    "        #sh['C2'] = (y-65/2)**2\n",
    "        \n",
    "        pgoal_2d[x,y] =  calculate_xG(sh)\n",
    "\n",
    "(fig,ax) = FCPython.createGoalMouth()\n",
    "pos=ax.imshow(pgoal_2d, extent=[-1,65,65,-1], aspect='auto',cmap=plt.cm.Reds,vmin=0, vmax=0.3)\n",
    "fig.colorbar(pos, ax=ax)\n",
    "ax.set_title('Probability of goal')\n",
    "plt.xlim((0,66))\n",
    "plt.ylim((-3,35))"
   ]
  }
 ],
 "metadata": {
  "kernelspec": {
   "display_name": "Python [conda env:football] *",
   "language": "python",
   "name": "conda-env-football-py"
  },
  "language_info": {
   "codemirror_mode": {
    "name": "ipython",
    "version": 3
   },
   "file_extension": ".py",
   "mimetype": "text/x-python",
   "name": "python",
   "nbconvert_exporter": "python",
   "pygments_lexer": "ipython3",
   "version": "3.10.4"
  }
 },
 "nbformat": 4,
 "nbformat_minor": 5
}
