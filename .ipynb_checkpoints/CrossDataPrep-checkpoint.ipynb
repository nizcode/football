{
 "cells": [
  {
   "cell_type": "code",
   "execution_count": 66,
   "id": "e5f3983b",
   "metadata": {},
   "outputs": [],
   "source": [
    "#The basics\n",
    "import pandas as pd\n",
    "import numpy as np\n",
    "import json\n",
    "\n",
    "#Xg MODEL\n",
    "from expectedGoal import xG\n",
    "\n",
    "#Plotting\n",
    "import matplotlib.pyplot as plt\n",
    "import FCPython \n",
    "\n",
    "#Statistical fitting of models\n",
    "import statsmodels.api as sm\n",
    "import statsmodels.formula.api as smf\n",
    "\n",
    "from os import listdir\n",
    "from os.path import isfile, join"
   ]
  },
  {
   "cell_type": "code",
   "execution_count": 70,
   "id": "fa56bce4",
   "metadata": {},
   "outputs": [
    {
     "data": {
      "text/plain": [
       "['events_European_Championship',\n",
       " 'events_Italy',\n",
       " 'events_World_Cup',\n",
       " 'events_Germany',\n",
       " 'events_Spain',\n",
       " 'events_France',\n",
       " 'events_England']"
      ]
     },
     "execution_count": 70,
     "metadata": {},
     "output_type": "execute_result"
    }
   ],
   "source": [
    "#Decide which league to load\n",
    "#Wyscout data from https://figshare.com/collections/Soccer_match_event_dataset/4415000/2\n",
    "onlyfiles = [f[:-5] for f in listdir('wyscoutEvents/events') if isfile(join('wyscoutEvents/events', f))]\n",
    "onlyfiles"
   ]
  },
  {
   "cell_type": "code",
   "execution_count": 72,
   "id": "4760e711",
   "metadata": {},
   "outputs": [],
   "source": [
    "data = []\n",
    "for i in onlyfiles:\n",
    "    with open('wyscoutEvents/events/'+i+'.json') as f:\n",
    "        js = json.load(f)\n",
    "        df = pd.DataFrame(js)\n",
    "        data.append(df)\n"
   ]
  },
  {
   "cell_type": "code",
   "execution_count": 77,
   "id": "79387951",
   "metadata": {},
   "outputs": [],
   "source": [
    "train = pd.concat(data,ignore_index=True)"
   ]
  },
  {
   "cell_type": "code",
   "execution_count": 75,
   "id": "322a78d9",
   "metadata": {},
   "outputs": [
    {
     "data": {
      "text/html": [
       "<div>\n",
       "<style scoped>\n",
       "    .dataframe tbody tr th:only-of-type {\n",
       "        vertical-align: middle;\n",
       "    }\n",
       "\n",
       "    .dataframe tbody tr th {\n",
       "        vertical-align: top;\n",
       "    }\n",
       "\n",
       "    .dataframe thead th {\n",
       "        text-align: right;\n",
       "    }\n",
       "</style>\n",
       "<table border=\"1\" class=\"dataframe\">\n",
       "  <thead>\n",
       "    <tr style=\"text-align: right;\">\n",
       "      <th></th>\n",
       "      <th>eventId</th>\n",
       "      <th>subEventName</th>\n",
       "      <th>tags</th>\n",
       "      <th>playerId</th>\n",
       "      <th>positions</th>\n",
       "      <th>matchId</th>\n",
       "      <th>eventName</th>\n",
       "      <th>teamId</th>\n",
       "      <th>matchPeriod</th>\n",
       "      <th>eventSec</th>\n",
       "      <th>subEventId</th>\n",
       "      <th>id</th>\n",
       "    </tr>\n",
       "  </thead>\n",
       "  <tbody>\n",
       "    <tr>\n",
       "      <th>0</th>\n",
       "      <td>8</td>\n",
       "      <td>Simple pass</td>\n",
       "      <td>[{'id': 1801}]</td>\n",
       "      <td>26010</td>\n",
       "      <td>[{'y': 48, 'x': 50}, {'y': 50, 'x': 47}]</td>\n",
       "      <td>1694390</td>\n",
       "      <td>Pass</td>\n",
       "      <td>4418</td>\n",
       "      <td>1H</td>\n",
       "      <td>1.255990</td>\n",
       "      <td>85</td>\n",
       "      <td>88178642</td>\n",
       "    </tr>\n",
       "    <tr>\n",
       "      <th>1</th>\n",
       "      <td>8</td>\n",
       "      <td>Simple pass</td>\n",
       "      <td>[{'id': 1801}]</td>\n",
       "      <td>3682</td>\n",
       "      <td>[{'y': 50, 'x': 47}, {'y': 48, 'x': 41}]</td>\n",
       "      <td>1694390</td>\n",
       "      <td>Pass</td>\n",
       "      <td>4418</td>\n",
       "      <td>1H</td>\n",
       "      <td>2.351908</td>\n",
       "      <td>85</td>\n",
       "      <td>88178643</td>\n",
       "    </tr>\n",
       "    <tr>\n",
       "      <th>2</th>\n",
       "      <td>8</td>\n",
       "      <td>Simple pass</td>\n",
       "      <td>[{'id': 1801}]</td>\n",
       "      <td>31528</td>\n",
       "      <td>[{'y': 48, 'x': 41}, {'y': 35, 'x': 32}]</td>\n",
       "      <td>1694390</td>\n",
       "      <td>Pass</td>\n",
       "      <td>4418</td>\n",
       "      <td>1H</td>\n",
       "      <td>3.241028</td>\n",
       "      <td>85</td>\n",
       "      <td>88178644</td>\n",
       "    </tr>\n",
       "    <tr>\n",
       "      <th>3</th>\n",
       "      <td>8</td>\n",
       "      <td>High pass</td>\n",
       "      <td>[{'id': 1802}]</td>\n",
       "      <td>7855</td>\n",
       "      <td>[{'y': 35, 'x': 32}, {'y': 6, 'x': 89}]</td>\n",
       "      <td>1694390</td>\n",
       "      <td>Pass</td>\n",
       "      <td>4418</td>\n",
       "      <td>1H</td>\n",
       "      <td>6.033681</td>\n",
       "      <td>83</td>\n",
       "      <td>88178645</td>\n",
       "    </tr>\n",
       "    <tr>\n",
       "      <th>4</th>\n",
       "      <td>1</td>\n",
       "      <td>Ground defending duel</td>\n",
       "      <td>[{'id': 702}, {'id': 1801}]</td>\n",
       "      <td>25437</td>\n",
       "      <td>[{'y': 6, 'x': 89}, {'y': 0, 'x': 85}]</td>\n",
       "      <td>1694390</td>\n",
       "      <td>Duel</td>\n",
       "      <td>4418</td>\n",
       "      <td>1H</td>\n",
       "      <td>13.143591</td>\n",
       "      <td>12</td>\n",
       "      <td>88178646</td>\n",
       "    </tr>\n",
       "    <tr>\n",
       "      <th>...</th>\n",
       "      <td>...</td>\n",
       "      <td>...</td>\n",
       "      <td>...</td>\n",
       "      <td>...</td>\n",
       "      <td>...</td>\n",
       "      <td>...</td>\n",
       "      <td>...</td>\n",
       "      <td>...</td>\n",
       "      <td>...</td>\n",
       "      <td>...</td>\n",
       "      <td>...</td>\n",
       "      <td>...</td>\n",
       "    </tr>\n",
       "    <tr>\n",
       "      <th>3251289</th>\n",
       "      <td>5</td>\n",
       "      <td>Ball out of the field</td>\n",
       "      <td>[]</td>\n",
       "      <td>0</td>\n",
       "      <td>[{'y': 32, 'x': 0}, {'y': 100, 'x': 100}]</td>\n",
       "      <td>2500098</td>\n",
       "      <td>Interruption</td>\n",
       "      <td>1623</td>\n",
       "      <td>2H</td>\n",
       "      <td>2796.732525</td>\n",
       "      <td>50</td>\n",
       "      <td>251596409</td>\n",
       "    </tr>\n",
       "    <tr>\n",
       "      <th>3251290</th>\n",
       "      <td>3</td>\n",
       "      <td>Corner</td>\n",
       "      <td>[{'id': 302}, {'id': 801}, {'id': 1801}]</td>\n",
       "      <td>70965</td>\n",
       "      <td>[{'y': 100, 'x': 100}, {'y': 47, 'x': 88}]</td>\n",
       "      <td>2500098</td>\n",
       "      <td>Free Kick</td>\n",
       "      <td>1633</td>\n",
       "      <td>2H</td>\n",
       "      <td>2829.821084</td>\n",
       "      <td>30</td>\n",
       "      <td>251596232</td>\n",
       "    </tr>\n",
       "    <tr>\n",
       "      <th>3251291</th>\n",
       "      <td>1</td>\n",
       "      <td>Air duel</td>\n",
       "      <td>[{'id': 701}, {'id': 1802}]</td>\n",
       "      <td>7919</td>\n",
       "      <td>[{'y': 53, 'x': 12}, {'y': 50, 'x': 14}]</td>\n",
       "      <td>2500098</td>\n",
       "      <td>Duel</td>\n",
       "      <td>1623</td>\n",
       "      <td>2H</td>\n",
       "      <td>2831.211419</td>\n",
       "      <td>10</td>\n",
       "      <td>251596410</td>\n",
       "    </tr>\n",
       "    <tr>\n",
       "      <th>3251292</th>\n",
       "      <td>1</td>\n",
       "      <td>Air duel</td>\n",
       "      <td>[{'id': 703}, {'id': 1801}]</td>\n",
       "      <td>8005</td>\n",
       "      <td>[{'y': 47, 'x': 88}, {'y': 50, 'x': 86}]</td>\n",
       "      <td>2500098</td>\n",
       "      <td>Duel</td>\n",
       "      <td>1633</td>\n",
       "      <td>2H</td>\n",
       "      <td>2832.434399</td>\n",
       "      <td>10</td>\n",
       "      <td>251596234</td>\n",
       "    </tr>\n",
       "    <tr>\n",
       "      <th>3251293</th>\n",
       "      <td>10</td>\n",
       "      <td>Shot</td>\n",
       "      <td>[{'id': 403}, {'id': 201}, {'id': 1216}, {'id'...</td>\n",
       "      <td>8005</td>\n",
       "      <td>[{'y': 50, 'x': 86}, {'y': 0, 'x': 0}]</td>\n",
       "      <td>2500098</td>\n",
       "      <td>Shot</td>\n",
       "      <td>1633</td>\n",
       "      <td>2H</td>\n",
       "      <td>2834.127168</td>\n",
       "      <td>100</td>\n",
       "      <td>251596236</td>\n",
       "    </tr>\n",
       "  </tbody>\n",
       "</table>\n",
       "<p>3251294 rows × 12 columns</p>\n",
       "</div>"
      ],
      "text/plain": [
       "         eventId           subEventName  \\\n",
       "0              8            Simple pass   \n",
       "1              8            Simple pass   \n",
       "2              8            Simple pass   \n",
       "3              8              High pass   \n",
       "4              1  Ground defending duel   \n",
       "...          ...                    ...   \n",
       "3251289        5  Ball out of the field   \n",
       "3251290        3                 Corner   \n",
       "3251291        1               Air duel   \n",
       "3251292        1               Air duel   \n",
       "3251293       10                   Shot   \n",
       "\n",
       "                                                      tags  playerId  \\\n",
       "0                                           [{'id': 1801}]     26010   \n",
       "1                                           [{'id': 1801}]      3682   \n",
       "2                                           [{'id': 1801}]     31528   \n",
       "3                                           [{'id': 1802}]      7855   \n",
       "4                              [{'id': 702}, {'id': 1801}]     25437   \n",
       "...                                                    ...       ...   \n",
       "3251289                                                 []         0   \n",
       "3251290           [{'id': 302}, {'id': 801}, {'id': 1801}]     70965   \n",
       "3251291                        [{'id': 701}, {'id': 1802}]      7919   \n",
       "3251292                        [{'id': 703}, {'id': 1801}]      8005   \n",
       "3251293  [{'id': 403}, {'id': 201}, {'id': 1216}, {'id'...      8005   \n",
       "\n",
       "                                          positions  matchId     eventName  \\\n",
       "0          [{'y': 48, 'x': 50}, {'y': 50, 'x': 47}]  1694390          Pass   \n",
       "1          [{'y': 50, 'x': 47}, {'y': 48, 'x': 41}]  1694390          Pass   \n",
       "2          [{'y': 48, 'x': 41}, {'y': 35, 'x': 32}]  1694390          Pass   \n",
       "3           [{'y': 35, 'x': 32}, {'y': 6, 'x': 89}]  1694390          Pass   \n",
       "4            [{'y': 6, 'x': 89}, {'y': 0, 'x': 85}]  1694390          Duel   \n",
       "...                                             ...      ...           ...   \n",
       "3251289   [{'y': 32, 'x': 0}, {'y': 100, 'x': 100}]  2500098  Interruption   \n",
       "3251290  [{'y': 100, 'x': 100}, {'y': 47, 'x': 88}]  2500098     Free Kick   \n",
       "3251291    [{'y': 53, 'x': 12}, {'y': 50, 'x': 14}]  2500098          Duel   \n",
       "3251292    [{'y': 47, 'x': 88}, {'y': 50, 'x': 86}]  2500098          Duel   \n",
       "3251293      [{'y': 50, 'x': 86}, {'y': 0, 'x': 0}]  2500098          Shot   \n",
       "\n",
       "         teamId matchPeriod     eventSec subEventId         id  \n",
       "0          4418          1H     1.255990         85   88178642  \n",
       "1          4418          1H     2.351908         85   88178643  \n",
       "2          4418          1H     3.241028         85   88178644  \n",
       "3          4418          1H     6.033681         83   88178645  \n",
       "4          4418          1H    13.143591         12   88178646  \n",
       "...         ...         ...          ...        ...        ...  \n",
       "3251289    1623          2H  2796.732525         50  251596409  \n",
       "3251290    1633          2H  2829.821084         30  251596232  \n",
       "3251291    1623          2H  2831.211419         10  251596410  \n",
       "3251292    1633          2H  2832.434399         10  251596234  \n",
       "3251293    1633          2H  2834.127168        100  251596236  \n",
       "\n",
       "[3251294 rows x 12 columns]"
      ]
     },
     "execution_count": 75,
     "metadata": {},
     "output_type": "execute_result"
    }
   ],
   "source": [
    "dfs"
   ]
  },
  {
   "cell_type": "code",
   "execution_count": 78,
   "id": "3fa08ef9",
   "metadata": {},
   "outputs": [],
   "source": [
    "#Create a data set of shots.\n",
    "#train = pd.DataFrame(data)\n",
    "#only want the shots\n",
    "cross=train[train['subEventId']==80]\n",
    "#create empty data frame\n",
    "#shots_model=pd.DataFrame(columns=['Goal','X','Y'])\n"
   ]
  },
  {
   "cell_type": "code",
   "execution_count": 3,
   "id": "1f402af2",
   "metadata": {},
   "outputs": [
    {
     "data": {
      "text/plain": [
       "380"
      ]
     },
     "execution_count": 3,
     "metadata": {},
     "output_type": "execute_result"
    }
   ],
   "source": [
    "len(train['matchId'].unique())"
   ]
  },
  {
   "cell_type": "code",
   "execution_count": 14,
   "id": "e990d6d6",
   "metadata": {},
   "outputs": [
    {
     "data": {
      "text/plain": [
       "Index(['eventId', 'subEventName', 'tags', 'playerId', 'positions', 'matchId',\n",
       "       'eventName', 'teamId', 'matchPeriod', 'eventSec', 'subEventId', 'id'],\n",
       "      dtype='object')"
      ]
     },
     "execution_count": 14,
     "metadata": {},
     "output_type": "execute_result"
    }
   ],
   "source": [
    "cross.columns"
   ]
  },
  {
   "cell_type": "code",
   "execution_count": 17,
   "id": "c0fea58c",
   "metadata": {},
   "outputs": [
    {
     "data": {
      "text/plain": [
       "45          93.961235\n",
       "75         228.764258\n",
       "80         235.809436\n",
       "86         251.068319\n",
       "137        486.183517\n",
       "             ...     \n",
       "642828    1482.329472\n",
       "642900    1809.230004\n",
       "642989    2079.858095\n",
       "643096    2642.981466\n",
       "643143    2789.232666\n",
       "Name: eventSec, Length: 12251, dtype: float64"
      ]
     },
     "execution_count": 17,
     "metadata": {},
     "output_type": "execute_result"
    }
   ],
   "source": [
    "cross['eventSec']"
   ]
  },
  {
   "cell_type": "code",
   "execution_count": 4,
   "id": "818e7d4a",
   "metadata": {},
   "outputs": [
    {
     "data": {
      "text/plain": [
       "45        [{'id': 301}, {'id': 402}, {'id': 801}, {'id':...\n",
       "75        [{'id': 1901}, {'id': 401}, {'id': 2101}, {'id...\n",
       "80                              [{'id': 401}, {'id': 1801}]\n",
       "86                 [{'id': 402}, {'id': 801}, {'id': 1802}]\n",
       "137                             [{'id': 401}, {'id': 1802}]\n",
       "                                ...                        \n",
       "642828             [{'id': 401}, {'id': 801}, {'id': 1802}]\n",
       "642900             [{'id': 302}, {'id': 402}, {'id': 1801}]\n",
       "642989             [{'id': 402}, {'id': 801}, {'id': 1801}]\n",
       "643096                          [{'id': 402}, {'id': 1802}]\n",
       "643143            [{'id': 402}, {'id': 2101}, {'id': 1802}]\n",
       "Name: tags, Length: 12251, dtype: object"
      ]
     },
     "execution_count": 4,
     "metadata": {},
     "output_type": "execute_result"
    }
   ],
   "source": [
    "cross['tags']"
   ]
  },
  {
   "cell_type": "code",
   "execution_count": 91,
   "id": "19368c72",
   "metadata": {},
   "outputs": [],
   "source": [
    "pitchLengthX=120\n",
    "pitchWidthY=80\n",
    "startx =[]\n",
    "starty= []\n",
    "endx=[]\n",
    "endy=[]\n",
    "for i,cro in cross.iterrows():\n",
    "    if cro['positions'][0]['y'] < 50:\n",
    "        c = cro['positions'][0]['y'] + 50\n",
    "        y = cro['positions'][0]['y'] + (2*c)\n",
    "    else:\n",
    "        y = cro['positions'][0]['y']\n",
    "    #print(cro['positions'][0])\n",
    "    startx.append((cro['positions'][0]['x']/100)*pitchLengthX)\n",
    "    starty.append((y/100)*pitchWidthY)\n",
    "    if (cro['positions'][1]['x'] ==100 and cro['positions'][1]['y'] ==100):\n",
    "        continue\n",
    "    elif(cro['positions'][1]['x'] ==0 and cro['positions'][1]['y'] ==0):\n",
    "        continue\n",
    "    else:\n",
    "        \n",
    "        endx.append((cro['positions'][1]['x']/100)*pitchLengthX)\n",
    "        endy.append((cro['positions'][1]['y']/100)*pitchWidthY)\n",
    "#make histogram of start crosses\n",
    "H_Cross_start = np.histogram2d(starty, startx,bins=50,range=[[0, pitchWidthY],[0, pitchLengthX]])\n",
    "H_Cross_end = np.histogram2d(endy, endx,bins=50,range=[[0, pitchWidthY],[0, pitchLengthX]])"
   ]
  },
  {
   "cell_type": "code",
   "execution_count": 92,
   "id": "724b563a",
   "metadata": {},
   "outputs": [
    {
     "data": {
      "image/png": "[encoded data removed]",
      "text/plain": [
       "<Figure size 640x480 with 2 Axes>"
      ]
     },
     "metadata": {},
     "output_type": "display_data"
    }
   ],
   "source": [
    "from FCPython import createPitch\n",
    "(fig,ax) = createPitch(pitchLengthX,pitchWidthY,'yards','gray')\n",
    "pos=ax.imshow(H_Cross_start[0], extent=[0,120,0,80], aspect='auto',cmap=plt.cm.Reds)\n",
    "fig.colorbar(pos, ax=ax)\n",
    "#ax.set_title('Danger passes per match by ' + team_required)\n",
    "plt.xlim((-1,121))\n",
    "plt.ylim((83,-3))\n",
    "plt.tight_layout()\n",
    "plt.gca().set_aspect('equal', adjustable='box')\n",
    "plt.show()\n",
    "\n",
    "#fig.savefig('Output/HeatmapOfPasses' + team_required + '.pdf', dpi=None, bbox_inches=\"tight\") "
   ]
  },
  {
   "cell_type": "code",
   "execution_count": 6,
   "id": "a03ef4c3",
   "metadata": {},
   "outputs": [
    {
     "data": {
      "image/png": "[encoded data removed]",
      "text/plain": [
       "<Figure size 640x480 with 2 Axes>"
      ]
     },
     "metadata": {},
     "output_type": "display_data"
    }
   ],
   "source": [
    "from FCPython import createPitch\n",
    "(fig,ax) = createPitch(pitchLengthX,pitchWidthY,'yards','gray')\n",
    "pos=ax.imshow(H_Cross_end[0], extent=[0,120,0,80], aspect='auto',cmap=plt.cm.Reds)\n",
    "fig.colorbar(pos, ax=ax)\n",
    "#ax.set_title('Danger passes per match by ' + team_required)\n",
    "plt.xlim((-1,121))\n",
    "plt.ylim((83,-3))\n",
    "plt.tight_layout()\n",
    "plt.gca().set_aspect('equal', adjustable='box')\n",
    "plt.show()\n",
    "\n",
    "\n",
    "#fig.savefig('Output/HeatmapOfPasses' + team_required + '.pdf', dpi=None, bbox_inches=\"tight\") "
   ]
  },
  {
   "cell_type": "code",
   "execution_count": 7,
   "id": "217f6f62",
   "metadata": {},
   "outputs": [],
   "source": [
    "def P2Gangle(x,y):\n",
    "    #x distance from endline to point\n",
    "    #y distance from point to centrline of pitch \n",
    "    a = 11\n",
    "    b = np.sqrt((x-11)**2+y**2)\n",
    "    c = np.sqrt(x**2 + y**2)\n",
    "    theta = np.arccos((a**2-b**2-c**2)/(-2*b*c))\n",
    "    return(np.degrees(theta))"
   ]
  },
  {
   "cell_type": "code",
   "execution_count": 8,
   "id": "cdd90623",
   "metadata": {},
   "outputs": [
    {
     "data": {
      "text/plain": [
       "14.821068070918363"
      ]
     },
     "execution_count": 8,
     "metadata": {},
     "output_type": "execute_result"
    }
   ],
   "source": [
    "x=27\n",
    "y=21\n",
    "a = 11\n",
    "b = np.sqrt((x-11)**2+y**2)\n",
    "c = np.sqrt(x**2 + y**2)\n",
    "theta = np.arccos((a**2-b**2-c**2)/(-2*b*c))\n",
    "P2Gangle(x,y)"
   ]
  },
  {
   "cell_type": "code",
   "execution_count": 117,
   "id": "1d121112",
   "metadata": {},
   "outputs": [
    {
     "data": {
      "text/plain": [
       "Index(['eventId', 'subEventName', 'tags', 'playerId', 'positions', 'matchId',\n",
       "       'eventName', 'teamId', 'matchPeriod', 'eventSec', 'subEventId', 'id'],\n",
       "      dtype='object')"
      ]
     },
     "execution_count": 117,
     "metadata": {},
     "output_type": "execute_result"
    }
   ],
   "source": [
    "train"
   ]
  },
  {
   "cell_type": "code",
   "execution_count": 119,
   "id": "56a0099b",
   "metadata": {},
   "outputs": [
    {
     "data": {
      "text/plain": [
       "0                    Simple pass\n",
       "1                    Simple pass\n",
       "2                    Simple pass\n",
       "3                      High pass\n",
       "4          Ground defending duel\n",
       "                   ...          \n",
       "3251289    Ball out of the field\n",
       "3251290                   Corner\n",
       "3251291                 Air duel\n",
       "3251292                 Air duel\n",
       "3251293                     Shot\n",
       "Name: subEventName, Length: 3251294, dtype: object"
      ]
     },
     "execution_count": 119,
     "metadata": {},
     "output_type": "execute_result"
    }
   ],
   "source": [
    "train['subEventName']"
   ]
  },
  {
   "cell_type": "code",
   "execution_count": 115,
   "id": "fe980727",
   "metadata": {},
   "outputs": [],
   "source": [
    "#only gonna look at successful crosses now\n",
    "#location of orignal cross\n",
    "cross_model = pd.DataFrame(columns=['Successful'])\n",
    "\n",
    "for i,cr in cross.iterrows():\n",
    "    #match id\n",
    "    \n",
    "    #print(x1)\n",
    "    cross_model.at[i,'matchId']=cr['matchId']\n",
    "    #time of event\n",
    "    cross_model.at[i,'matchPeriod'] = cr['matchPeriod']\n",
    "    cross_model.at[i,'Sec']=cr['eventSec']\n",
    "    #sorting out start start Y coordinates\n",
    "    if cr['positions'][0]['y'] < 50:\n",
    "        c = cr['positions'][0]['y'] + 50\n",
    "        y = cr['positions'][0]['y'] + (2*c)\n",
    "    else:\n",
    "        y = cr['positions'][0]['y']\n",
    "    #distance from attacking goal endline\n",
    "    cross_model.at[i,'X1']=100-cr['positions'][0]['x']\n",
    "    cross_model.at[i,'Y1']=y\n",
    "    cross_model.at[i,'C']=abs(y-50)#distance from centre line\n",
    "    \n",
    "    #sort out end y coordinates\n",
    "    y1 = cr['positions'][1]['y']\n",
    "    if y1 < 50:\n",
    "        c = y1 + 50\n",
    "        y1 = y1 + (2*c)\n",
    "    else:\n",
    "        y1 = y1\n",
    "    #distance from attacking goal endline\n",
    "    x1 =cr['positions'][1]['x']\n",
    "    cross_model.at[i,'X2']=100-x1\n",
    "    cross_model.at[i,'Y2']=y1\n",
    "    #get xG of end location\n",
    "    \n",
    "    \n",
    "    #distance from goal\n",
    "    x=cross_model.at[i,'X1']*105/100\n",
    "    y=cross_model.at[i,'C']*65/100\n",
    "        #Euciledean Distance\n",
    "    cross_model.at[i,'Distance']=np.sqrt(x**2 + y**2)\n",
    "    \n",
    "    #angle peno spot to 6 yard box\n",
    "    cross_model.at[i,'Angle'] = P2Gangle(x,y)\n",
    "    \n",
    "    #corner?\n",
    "    cross_model.at[i,'Corner']=0\n",
    "    if cr['eventId']==3:\n",
    "        cross_model.at['Corner']=1\n",
    "    #high or low\n",
    "    cross_model.at[i,'Goal']=0\n",
    "    cross_model.at[i,'Successful']=0\n",
    "    cross_model.at[i,'high']=0\n",
    "    cross_model.at[i,'inverted']=0\n",
    "    cross_model.at[i,'xG']=0\n",
    "    \n",
    "    \n",
    "    for tags in cr['tags']:\n",
    "        if tags['id'] == 1801:\n",
    "            cross_model.at[i,'Successful']=1\n",
    "            \n",
    "            x=100-cr['positions'][1]['x']#use .at to access single value, similar to .loc\n",
    "        #y coordinate unchanged\n",
    "            y=cr['positions'][1]['y']#2 dictionary within a list, keys = 'x','y'\n",
    "        #to get the distance shot to the center line\n",
    "            c=abs(cr['positions'][1]['y']-50)\n",
    "    \n",
    "        #Distance in metres and shot angle in radians.\n",
    "        #x and y data are actually percentage of field.\n",
    "        #in order to get actual meters divide by hundered to get fraction then mulitply by the dimensions\n",
    "        #105by65\n",
    "            x=x*105/100\n",
    "            y=y*65/100\n",
    "        #Euciledean Distance\n",
    "            s=np.sqrt(x**2 + y**2)\n",
    "        #angle\n",
    "            a = np.arctan(7.32 *x /(x**2 + y**2 - (7.32/2)**2))\n",
    "        \n",
    "\n",
    "            cross_model.at[i,'xG'] = xG(a=a,d=s)\n",
    "            \n",
    "        if tags['id'] == 301:\n",
    "            cross_model.at[i,'Goal']=1\n",
    "        \n",
    "        if tags['id'] == 801:\n",
    "            cross_model.at[i,'high']=1\n",
    "        if tags['id'] == 802:\n",
    "            cross_model.at[i,'high']=2\n",
    "            #https://dataglossary.wyscout.com/pitch_coordinates/ needed to understand where is left and right flank\n",
    "        if ((cr['positions'][0]['y']-50) < 0) and (tags['id'] == 402):\n",
    "            cross_model.at[i,'inverted']=1\n",
    "        if ((cr['positions'][0]['y']-50) > 0) and (tags['id'] == 401):\n",
    "            cross_model.at[i,'inverted']=1\n",
    "            \n",
    "            \n",
    "        "
   ]
  },
  {
   "cell_type": "code",
   "execution_count": 116,
   "id": "7f595e86",
   "metadata": {},
   "outputs": [],
   "source": [
    "cross_model.to_csv('crossData.csv',sep=',')"
   ]
  },
  {
   "cell_type": "code",
   "execution_count": null,
   "id": "58b9ada5",
   "metadata": {},
   "outputs": [],
   "source": []
  },
  {
   "cell_type": "code",
   "execution_count": 10,
   "id": "8dcf1fb7",
   "metadata": {},
   "outputs": [
    {
     "data": {
      "text/plain": [
       "Successful      object\n",
       "X              float64\n",
       "Y              float64\n",
       "matchId        float64\n",
       "matchPeriod     object\n",
       "Sec            float64\n",
       "C              float64\n",
       "Distance       float64\n",
       "Angle          float64\n",
       "Corner         float64\n",
       "Goal           float64\n",
       "high           float64\n",
       "inverted       float64\n",
       "xG             float64\n",
       "dtype: object"
      ]
     },
     "execution_count": 10,
     "metadata": {},
     "output_type": "execute_result"
    }
   ],
   "source": [
    "cross_model['X'] = cross_model['X'].astype(float)\n",
    "cross_model['Y'] = cross_model['Y'].astype(float)\n",
    "cross_model.dtypes"
   ]
  },
  {
   "cell_type": "code",
   "execution_count": 27,
   "id": "85d2de08",
   "metadata": {},
   "outputs": [
    {
     "name": "stdout",
     "output_type": "stream",
     "text": [
      "                 Generalized Linear Model Regression Results                  \n",
      "==============================================================================\n",
      "Dep. Variable:                   Goal   No. Observations:                12251\n",
      "Model:                            GLM   Df Residuals:                    12249\n",
      "Model Family:                Binomial   Df Model:                            1\n",
      "Link Function:                  Logit   Scale:                          1.0000\n",
      "Method:                          IRLS   Log-Likelihood:                -974.27\n",
      "Date:                Tue, 25 Oct 2022   Deviance:                       1948.5\n",
      "Time:                        10:45:31   Pearson chi2:                 1.22e+04\n",
      "No. Iterations:                     8   Pseudo R-squ. (CS):           0.002981\n",
      "Covariance Type:            nonrobust                                         \n",
      "==============================================================================\n",
      "                 coef    std err          z      P>|z|      [0.025      0.975]\n",
      "------------------------------------------------------------------------------\n",
      "Intercept     -2.5551      0.258     -9.898      0.000      -3.061      -2.049\n",
      "Distance      -0.0600      0.010     -6.002      0.000      -0.080      -0.040\n",
      "==============================================================================\n"
     ]
    }
   ],
   "source": [
    "#build logistical model\n",
    "#only ging to look at distance from goal first\n",
    "#Make single variable model of angle\n",
    "#Using logistic regression we find the optimal values of b\n",
    "#This process minimizes the loglikelihood\n",
    "test_model = smf.glm(formula=\"Goal ~ Distance\" , data=cross_model, \n",
    "                           family=sm.families.Binomial()).fit()\n",
    "print(test_model.summary())        \n",
    "b=test_model.params"
   ]
  },
  {
   "cell_type": "code",
   "execution_count": 47,
   "id": "03450998",
   "metadata": {},
   "outputs": [
    {
     "data": {
      "text/plain": [
       "count    12251.000000\n",
       "mean        27.873591\n",
       "std          7.339593\n",
       "min          4.669582\n",
       "25%         23.036113\n",
       "50%         28.272115\n",
       "75%         32.919447\n",
       "max         79.106337\n",
       "Name: Distance, dtype: float64"
      ]
     },
     "execution_count": 47,
     "metadata": {},
     "output_type": "execute_result"
    }
   ],
   "source": [
    "cross_model['Distance'].describe()"
   ]
  },
  {
   "cell_type": "code",
   "execution_count": 19,
   "id": "1540d6e7",
   "metadata": {},
   "outputs": [
    {
     "name": "stderr",
     "output_type": "stream",
     "text": [
      "/tmp/ipykernel_4050/360355090.py:4: RuntimeWarning: invalid value encountered in divide\n",
      "  prob_succ=np.nan_to_num(np.divide(succcount_dist[0],count_dist[0]))\n"
     ]
    }
   ],
   "source": [
    "#Show empirically how distance from goal predicts probability of successful cross\n",
    "succcount_dist=np.histogram(cross_model.loc[cross_model['Successful']==1,'Distance'],bins=40,range=[4, 70])\n",
    "count_dist=np.histogram(cross_model['Distance'],bins=40,range=[4, 70])\n",
    "prob_succ=np.nan_to_num(np.divide(succcount_dist[0],count_dist[0]))\n",
    "dis=count_dist[1]"
   ]
  },
  {
   "cell_type": "code",
   "execution_count": 20,
   "id": "903a73cb",
   "metadata": {},
   "outputs": [
    {
     "data": {
      "image/png": "[encoded data removed]",
      "text/plain": [
       "<Figure size 640x480 with 1 Axes>"
      ]
     },
     "metadata": {},
     "output_type": "display_data"
    }
   ],
   "source": [
    "#ValueError: x and y must have same first dimension, but have shapes (41,) and (40,)\n",
    "middis= (dis[:-1] + dis[1:])/2\n",
    "\n",
    "#plotting the probabilty of successful using distance from goal\n",
    "xCprob=1/(1+np.exp(b[0]+b[1]*middis)) \n",
    "fig,ax=plt.subplots(num=1)\n",
    "ax.plot(middis, prob_succ, linestyle='none', marker= '.', color='black')\n",
    "ax.plot(middis, xCprob, linestyle='solid', color='black')\n",
    "ax.set_ylabel('Probability chance of successful cross')\n",
    "ax.set_xlabel(\"distance from goal\")\n",
    "ax.spines['top'].set_visible(False)\n",
    "ax.spines['right'].set_visible(False)\n",
    "plt.show()\n",
    "#fig.savefig('Output/ProbabilityOfScoringAngleFit.pdf', dpi=None, bbox_inches=\"tight\")   \n",
    "\n",
    "\n"
   ]
  },
  {
   "cell_type": "code",
   "execution_count": 74,
   "id": "d3e8ce12",
   "metadata": {},
   "outputs": [
    {
     "data": {
      "text/plain": [
       "Index(['Successful', 'X', 'Y', 'matchId', 'matchPeriod', 'Sec', 'C',\n",
       "       'Distance', 'Angle', 'Corner', 'Goal', 'height', 'inverted'],\n",
       "      dtype='object')"
      ]
     },
     "execution_count": 74,
     "metadata": {},
     "output_type": "execute_result"
    }
   ],
   "source": [
    "cross_model.columns"
   ]
  },
  {
   "cell_type": "code",
   "execution_count": 98,
   "id": "5bdc53c2",
   "metadata": {},
   "outputs": [
    {
     "data": {
      "text/plain": [
       "Successful      object\n",
       "X               object\n",
       "Y               object\n",
       "matchId        float64\n",
       "matchPeriod     object\n",
       "Sec            float64\n",
       "C              float64\n",
       "Distance       float64\n",
       "Angle          float64\n",
       "Corner         float64\n",
       "Goal           float64\n",
       "high           float64\n",
       "inverted       float64\n",
       "xG             float64\n",
       "dtype: object"
      ]
     },
     "execution_count": 98,
     "metadata": {},
     "output_type": "execute_result"
    }
   ],
   "source": [
    "cross_model.dtypes"
   ]
  },
  {
   "cell_type": "code",
   "execution_count": 35,
   "id": "f2e6c3af",
   "metadata": {},
   "outputs": [],
   "source": [
    "model_variables = ['X','C']#,'X','C']\n",
    "model=''\n",
    "for v in model_variables[:-1]:\n",
    "    model = model  + v + ' + '\n",
    "model = model + model_variables[-1]"
   ]
  },
  {
   "cell_type": "code",
   "execution_count": 41,
   "id": "a3d8f64d",
   "metadata": {},
   "outputs": [
    {
     "name": "stdout",
     "output_type": "stream",
     "text": [
      "                         Generalized Linear Model Regression Results                          \n",
      "==============================================================================================\n",
      "Dep. Variable:     ['Successful[0]', 'Successful[1]']   No. Observations:                12251\n",
      "Model:                                            GLM   Df Residuals:                    12248\n",
      "Model Family:                                Binomial   Df Model:                            2\n",
      "Link Function:                                  Logit   Scale:                          1.0000\n",
      "Method:                                          IRLS   Log-Likelihood:                -7523.5\n",
      "Date:                                Tue, 25 Oct 2022   Deviance:                       15047.\n",
      "Time:                                        10:52:04   Pearson chi2:                 1.23e+04\n",
      "No. Iterations:                                     5   Pseudo R-squ. (CS):           0.005238\n",
      "Covariance Type:                            nonrobust                                         \n",
      "==============================================================================\n",
      "                 coef    std err          z      P>|z|      [0.025      0.975]\n",
      "------------------------------------------------------------------------------\n",
      "Intercept      0.6801      0.087      7.822      0.000       0.510       0.850\n",
      "X             -0.0173      0.002     -7.462      0.000      -0.022      -0.013\n",
      "C              0.0103      0.002      4.301      0.000       0.006       0.015\n",
      "==============================================================================\n"
     ]
    }
   ],
   "source": [
    "#simple model only looking at distance and angle\n",
    "#Fit the model\n",
    "\n",
    "test_model = smf.glm(formula=\"Successful ~ \" + model, data=cross_model, \n",
    "                           family=sm.families.Binomial()).fit()\n",
    "print(test_model.summary())        \n",
    "b=test_model.params"
   ]
  },
  {
   "cell_type": "code",
   "execution_count": 42,
   "id": "bb8a5aba",
   "metadata": {},
   "outputs": [],
   "source": [
    "#Return xC value for more general model\n",
    "#sh = row of the shots_model df\n",
    "#%%capture\n",
    "def calculate_xC(sh):\n",
    "#sh = shots_model.iloc[1,:]\n",
    "    bsum=b[0]\n",
    "    for i,v in enumerate(model_variables):\n",
    "        #print(sh[v])\n",
    "        bsum=bsum+b[i+1]*sh[v]\n",
    "    xC = 1/(1+np.exp(bsum)) \n",
    "    return xC   \n",
    "#xG\n",
    "#Add an xG to my dataframe\n",
    "#usiong apply function, only works if input to the function is a row\n",
    "\n",
    "\n"
   ]
  },
  {
   "cell_type": "code",
   "execution_count": 39,
   "id": "ebaa10eb",
   "metadata": {},
   "outputs": [
    {
     "data": {
      "text/plain": [
       "{'X': 64, 'C': 64}"
      ]
     },
     "execution_count": 39,
     "metadata": {},
     "output_type": "execute_result"
    }
   ],
   "source": [
    "pgoal_2d=np.zeros((65,65))\n",
    "\n",
    "for x in range(65):\n",
    "    for y in range(65):\n",
    "        sh=dict()\n",
    "        #a = np.arctan(7.32 *x /(x**2 + abs(y-65/2)**2 - (7.32/2)**2))\n",
    "        if a<0:\n",
    "            a = np.pi + a\n",
    "        \n",
    "        #sh['Angle'] = P2Gangle(x,y)\n",
    "        sh['X'] = x\n",
    "        sh['C'] = y\n",
    "        #sh['X'] = x\n",
    "        #sh['AX'] = x*a\n",
    "        #sh['X2'] = x**2\n",
    "        #sh['C'] = abs(y-65/2)\n",
    "        #sh['C2'] = (y-65/2)**2\n",
    "\n",
    "\n",
    "sh"
   ]
  },
  {
   "cell_type": "code",
   "execution_count": 44,
   "id": "4e758b66",
   "metadata": {},
   "outputs": [
    {
     "data": {
      "text/plain": [
       "(-3.0, 35.0)"
      ]
     },
     "execution_count": 44,
     "metadata": {},
     "output_type": "execute_result"
    },
    {
     "data": {
      "image/png": "[encoded data removed]",
      "text/plain": [
       "<Figure size 640x480 with 2 Axes>"
      ]
     },
     "metadata": {},
     "output_type": "display_data"
    }
   ],
   "source": [
    "#Create a 2D map of xC\n",
    "#therefore getting the xC for every possible position on the pitch\n",
    "#create a df with the fake xs, and ys and hence angles\n",
    "\n",
    "pgoal_2d=np.zeros((65,65))\n",
    "\n",
    "for x in range(65):\n",
    "    for y in range(65):\n",
    "        sh=dict()\n",
    "       # a = np.arctan(7.32 *x /(x**2 + abs(y-65/2)**2 - (7.32/2)**2))\n",
    "        if a<0:\n",
    "            a = np.pi + a\n",
    "        \n",
    "        #sh['Angle'] = P2Gangle(x,y)\n",
    "        sh['X'] = x\n",
    "        sh['C'] = y\n",
    "        #sh['X'] = x\n",
    "        #sh['AX'] = x*a\n",
    "        #sh['X2'] = x**2\n",
    "        #sh['C'] = abs(y-65/2)\n",
    "        #sh['C2'] = (y-65/2)**2\n",
    "        \n",
    "        pgoal_2d[x,y] =  calculate_xC(sh)\n",
    "\n",
    "(fig,ax) = FCPython.createGoalMouth()\n",
    "pos=ax.imshow(pgoal_2d, extent=[-1,65,65,-1], aspect='auto',cmap=plt.cm.Reds,vmin=0, vmax=0.3)\n",
    "fig.colorbar(pos, ax=ax)\n",
    "ax.set_title('Probability of goal')\n",
    "plt.xlim((0,66))\n",
    "plt.ylim((-3,35))"
   ]
  },
  {
   "cell_type": "code",
   "execution_count": 64,
   "id": "0dca4f84",
   "metadata": {},
   "outputs": [
    {
     "data": {
      "text/plain": [
       "[<matplotlib.lines.Line2D at 0x7f00ad4792d0>]"
      ]
     },
     "execution_count": 64,
     "metadata": {},
     "output_type": "execute_result"
    },
    {
     "data": {
      "image/png": "[encoded data removed]",
      "text/plain": [
       "<Figure size 640x480 with 1 Axes>"
      ]
     },
     "metadata": {},
     "output_type": "display_data"
    }
   ],
   "source": [
    "sdf = cross_model.loc[cross_model['Successful']==1,:]\n",
    "plt.figure()\n",
    "plt.plot(sdf['xG'],sdf['Distance'],'.')\n",
    "#plt.axis([0.2,0.7,0,70])"
   ]
  },
  {
   "cell_type": "code",
   "execution_count": null,
   "id": "8b08f154",
   "metadata": {},
   "outputs": [],
   "source": []
  }
 ],
 "metadata": {
  "kernelspec": {
   "display_name": "Python [conda env:football] *",
   "language": "python",
   "name": "conda-env-football-py"
  },
  "language_info": {
   "codemirror_mode": {
    "name": "ipython",
    "version": 3
   },
   "file_extension": ".py",
   "mimetype": "text/x-python",
   "name": "python",
   "nbconvert_exporter": "python",
   "pygments_lexer": "ipython3",
   "version": "3.10.4"
  }
 },
 "nbformat": 4,
 "nbformat_minor": 5
}
